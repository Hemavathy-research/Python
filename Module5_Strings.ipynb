{
 "cells": [
  {
   "cell_type": "markdown",
   "metadata": {},
   "source": [
    "# String Creation"
   ]
  },
  {
   "cell_type": "code",
   "execution_count": 2,
   "metadata": {},
   "outputs": [
    {
     "data": {
      "text/plain": [
       "'Hi, Welcome'"
      ]
     },
     "execution_count": 2,
     "metadata": {},
     "output_type": "execute_result"
    }
   ],
   "source": [
    "str2='Hi, Welcome'\n",
    "str2"
   ]
  },
  {
   "cell_type": "code",
   "execution_count": 3,
   "metadata": {},
   "outputs": [
    {
     "data": {
      "text/plain": [
       "'HELLO PYTHON'"
      ]
     },
     "execution_count": 3,
     "metadata": {},
     "output_type": "execute_result"
    }
   ],
   "source": [
    "str1 = \"HELLO PYTHON\"\n",
    "str1"
   ]
  },
  {
   "cell_type": "code",
   "execution_count": 5,
   "metadata": {},
   "outputs": [
    {
     "name": "stdout",
     "output_type": "stream",
     "text": [
      "Hello\n",
      "        World\n"
     ]
    }
   ],
   "source": [
    "str3=\"\"\"Hello\n",
    "        World\"\"\"\n",
    "print(str3)"
   ]
  },
  {
   "cell_type": "code",
   "execution_count": 6,
   "metadata": {},
   "outputs": [
    {
     "name": "stdout",
     "output_type": "stream",
     "text": [
      "Hello\n",
      "World\n"
     ]
    }
   ],
   "source": [
    "str3=\"\"\"Hello\n",
    "World\"\"\"\n",
    "print(str3)"
   ]
  },
  {
   "cell_type": "code",
   "execution_count": 7,
   "metadata": {},
   "outputs": [
    {
     "data": {
      "text/plain": [
       "'Hello\\n        World'"
      ]
     },
     "execution_count": 7,
     "metadata": {},
     "output_type": "execute_result"
    }
   ],
   "source": [
    "str3=\"\"\"Hello\n",
    "        World\"\"\"\n",
    "str3"
   ]
  },
  {
   "cell_type": "code",
   "execution_count": 11,
   "metadata": {},
   "outputs": [
    {
     "name": "stdout",
     "output_type": "stream",
     "text": [
      "Hello\n",
      "        World\n"
     ]
    }
   ],
   "source": [
    "str4='''Hello\n",
    "        World'''\n",
    "print(str4)"
   ]
  },
  {
   "cell_type": "code",
   "execution_count": 12,
   "metadata": {},
   "outputs": [
    {
     "name": "stdout",
     "output_type": "stream",
     "text": [
      "Hello\n",
      "World\n"
     ]
    }
   ],
   "source": [
    "str4='''Hello\n",
    "World'''\n",
    "print(str4)"
   ]
  },
  {
   "cell_type": "code",
   "execution_count": 13,
   "metadata": {},
   "outputs": [
    {
     "data": {
      "text/plain": [
       "'Hello\\n        World'"
      ]
     },
     "execution_count": 13,
     "metadata": {},
     "output_type": "execute_result"
    }
   ],
   "source": [
    "str4='''Hello\n",
    "        World'''\n",
    "str4"
   ]
  },
  {
   "cell_type": "code",
   "execution_count": 14,
   "metadata": {},
   "outputs": [
    {
     "data": {
      "text/plain": [
       "'Hello\\nWorld'"
      ]
     },
     "execution_count": 14,
     "metadata": {},
     "output_type": "execute_result"
    }
   ],
   "source": [
    "str4='''Hello\n",
    "World'''\n",
    "str4"
   ]
  },
  {
   "cell_type": "code",
   "execution_count": 28,
   "metadata": {},
   "outputs": [
    {
     "name": "stdout",
     "output_type": "stream",
     "text": [
      "Happy Monday Everyone\n"
     ]
    }
   ],
   "source": [
    "mystr = ('Happy '\n",
    "         'Monday '\n",
    " 'Everyone')\n",
    "print(mystr)\n"
   ]
  },
  {
   "cell_type": "code",
   "execution_count": 18,
   "metadata": {},
   "outputs": [
    {
     "data": {
      "text/plain": [
       "'Woohoo Woohoo Woohoo Woohoo Woohoo '"
      ]
     },
     "execution_count": 18,
     "metadata": {},
     "output_type": "execute_result"
    }
   ],
   "source": [
    "mystr2 = 'Woohoo '\n",
    "mystr2 = mystr2*5  #replication operator\n",
    "mystr2\n"
   ]
  },
  {
   "cell_type": "markdown",
   "metadata": {},
   "source": [
    "# Iterating through a String"
   ]
  },
  {
   "cell_type": "code",
   "execution_count": 29,
   "metadata": {},
   "outputs": [
    {
     "name": "stdout",
     "output_type": "stream",
     "text": [
      "H\n",
      "a\n",
      "p\n",
      "p\n",
      "y\n",
      " \n",
      "L\n",
      "i\n",
      "f\n",
      "e\n"
     ]
    }
   ],
   "source": [
    "str1=\"Happy Life\"\n",
    "for i in str1:\n",
    "    print(i)"
   ]
  },
  {
   "cell_type": "code",
   "execution_count": 30,
   "metadata": {},
   "outputs": [
    {
     "name": "stdout",
     "output_type": "stream",
     "text": [
      "0\n",
      "1\n",
      "2\n",
      "3\n",
      "4\n",
      "5\n",
      "6\n",
      "7\n",
      "8\n",
      "9\n"
     ]
    }
   ],
   "source": [
    "str1=\"Happy Life\"\n",
    "for i in range(len(str1)):\n",
    "    print(i)"
   ]
  },
  {
   "cell_type": "code",
   "execution_count": 31,
   "metadata": {},
   "outputs": [
    {
     "ename": "TypeError",
     "evalue": "'str' object cannot be interpreted as an integer",
     "output_type": "error",
     "traceback": [
      "\u001b[1;31m---------------------------------------------------------------------------\u001b[0m",
      "\u001b[1;31mTypeError\u001b[0m                                 Traceback (most recent call last)",
      "\u001b[1;32m<ipython-input-31-9b82d0540dd6>\u001b[0m in \u001b[0;36m<module>\u001b[1;34m\u001b[0m\n\u001b[0;32m      1\u001b[0m \u001b[0mstr1\u001b[0m\u001b[1;33m=\u001b[0m\u001b[1;34m\"Happy Life\"\u001b[0m\u001b[1;33m\u001b[0m\u001b[1;33m\u001b[0m\u001b[0m\n\u001b[1;32m----> 2\u001b[1;33m \u001b[1;32mfor\u001b[0m \u001b[0mi\u001b[0m \u001b[1;32min\u001b[0m \u001b[0mrange\u001b[0m\u001b[1;33m(\u001b[0m\u001b[0mstr1\u001b[0m\u001b[1;33m)\u001b[0m\u001b[1;33m:\u001b[0m\u001b[1;33m\u001b[0m\u001b[1;33m\u001b[0m\u001b[0m\n\u001b[0m\u001b[0;32m      3\u001b[0m     \u001b[0mprint\u001b[0m\u001b[1;33m(\u001b[0m\u001b[0mi\u001b[0m\u001b[1;33m)\u001b[0m\u001b[1;33m\u001b[0m\u001b[1;33m\u001b[0m\u001b[0m\n",
      "\u001b[1;31mTypeError\u001b[0m: 'str' object cannot be interpreted as an integer"
     ]
    }
   ],
   "source": [
    "str1=\"Happy Life\"\n",
    "for i in range(str1):\n",
    "    print(i)"
   ]
  },
  {
   "cell_type": "code",
   "execution_count": 37,
   "metadata": {},
   "outputs": [
    {
     "name": "stdout",
     "output_type": "stream",
     "text": [
      "H\n",
      "a\n",
      "p\n",
      "p\n",
      "y\n",
      " \n",
      "L\n",
      "i\n",
      "f\n",
      "e\n"
     ]
    }
   ],
   "source": [
    "str1=\"Happy Life\"\n",
    "n=len(str1)\n",
    "i=0\n",
    "while i<=n-1:\n",
    "    print(str1[i])\n",
    "    i+=1"
   ]
  },
  {
   "cell_type": "code",
   "execution_count": 40,
   "metadata": {},
   "outputs": [
    {
     "name": "stdout",
     "output_type": "stream",
     "text": [
      "0 H\n",
      "1 a\n",
      "2 p\n",
      "3 p\n",
      "4 y\n",
      "5  \n",
      "6 L\n",
      "7 i\n",
      "8 f\n",
      "9 e\n"
     ]
    }
   ],
   "source": [
    "str1=\"Happy Life\"\n",
    "for i, x in enumerate(str1):\n",
    "    print(i,x)"
   ]
  },
  {
   "cell_type": "code",
   "execution_count": 44,
   "metadata": {},
   "outputs": [
    {
     "name": "stdout",
     "output_type": "stream",
     "text": [
      "5 H\n",
      "6 a\n",
      "7 p\n",
      "8 p\n",
      "9 y\n",
      "10  \n",
      "11 L\n",
      "12 i\n",
      "13 f\n",
      "14 e\n"
     ]
    }
   ],
   "source": [
    "str1=\"Happy Life\"\n",
    "for i, x in enumerate(str1,start=5):\n",
    "    print(i,x)"
   ]
  },
  {
   "cell_type": "code",
   "execution_count": 42,
   "metadata": {},
   "outputs": [
    {
     "name": "stdout",
     "output_type": "stream",
     "text": [
      "(0, 'H')\n",
      "(1, 'a')\n",
      "(2, 'p')\n",
      "(3, 'p')\n",
      "(4, 'y')\n",
      "(5, ' ')\n",
      "(6, 'L')\n",
      "(7, 'i')\n",
      "(8, 'f')\n",
      "(9, 'e')\n"
     ]
    }
   ],
   "source": [
    "str1=\"Happy Life\"\n",
    "for i in enumerate(str1):\n",
    "    print(i)"
   ]
  },
  {
   "cell_type": "code",
   "execution_count": 64,
   "metadata": {},
   "outputs": [
    {
     "data": {
      "text/plain": [
       "[(0, 'H'),\n",
       " (1, 'a'),\n",
       " (2, 'p'),\n",
       " (3, 'p'),\n",
       " (4, 'y'),\n",
       " (5, ' '),\n",
       " (6, 'L'),\n",
       " (7, 'i'),\n",
       " (8, 'f'),\n",
       " (9, 'e'),\n",
       " (10, ','),\n",
       " (11, 'W'),\n",
       " (12, 'e'),\n",
       " (13, 'l'),\n",
       " (14, 'c'),\n",
       " (15, 'o'),\n",
       " (16, 'm'),\n",
       " (17, 'e')]"
      ]
     },
     "execution_count": 64,
     "metadata": {},
     "output_type": "execute_result"
    }
   ],
   "source": [
    "list(enumerate(str1))"
   ]
  },
  {
   "cell_type": "markdown",
   "metadata": {},
   "source": [
    "# In-built functions in strings\n"
   ]
  },
  {
   "cell_type": "markdown",
   "metadata": {},
   "source": [
    "# \n",
    "len() – Find out the length of characters in string.\n",
    "min() – Smallest value in a string based on ASCII values.\n",
    "max()- Largest value in a string based on ASCII values.\n"
   ]
  },
  {
   "cell_type": "code",
   "execution_count": 4,
   "metadata": {},
   "outputs": [
    {
     "name": "stdout",
     "output_type": "stream",
     "text": [
      "55\n"
     ]
    }
   ],
   "source": [
    "str1= \"If you want to shine like a sun, first burn like a sun.\"\n",
    "print(len(str1))\n"
   ]
  },
  {
   "cell_type": "code",
   "execution_count": 3,
   "metadata": {},
   "outputs": [
    {
     "name": "stdout",
     "output_type": "stream",
     "text": [
      "55\n",
      "y\n",
      " \n"
     ]
    }
   ],
   "source": [
    "str1= \"If you want to shine like a sun, first burn like a sun.\"\n",
    "print(len(str1))\n",
    "print(max(str1))\n",
    "print(min(str1))"
   ]
  },
  {
   "cell_type": "code",
   "execution_count": 5,
   "metadata": {},
   "outputs": [
    {
     "data": {
      "text/plain": [
       "'a'"
      ]
     },
     "execution_count": 5,
     "metadata": {},
     "output_type": "execute_result"
    }
   ],
   "source": [
    "min(\"abcdefghijklmnopqrstuvwxyz\")"
   ]
  },
  {
   "cell_type": "code",
   "execution_count": 7,
   "metadata": {},
   "outputs": [
    {
     "data": {
      "text/plain": [
       "'z'"
      ]
     },
     "execution_count": 7,
     "metadata": {},
     "output_type": "execute_result"
    }
   ],
   "source": [
    "max(\"abcdefghijklmnopqrstuvwxyz\")"
   ]
  },
  {
   "cell_type": "code",
   "execution_count": 8,
   "metadata": {},
   "outputs": [
    {
     "name": "stdout",
     "output_type": "stream",
     "text": [
      "43\n",
      "y\n",
      ",\n"
     ]
    }
   ],
   "source": [
    "str1= \"Ifyouwanttoshinelikeasun,firstburnlikeasun.\"\n",
    "print(len(str1))\n",
    "print(max(str1))\n",
    "print(min(str1))"
   ]
  },
  {
   "cell_type": "code",
   "execution_count": 9,
   "metadata": {},
   "outputs": [
    {
     "name": "stdout",
     "output_type": "stream",
     "text": [
      "42\n",
      "y\n",
      ".\n"
     ]
    }
   ],
   "source": [
    "str1= \"Ifyouwanttoshinelikeasunfirstburnlikeasun.\"\n",
    "print(len(str1))\n",
    "print(max(str1))\n",
    "print(min(str1))"
   ]
  },
  {
   "cell_type": "code",
   "execution_count": 10,
   "metadata": {},
   "outputs": [
    {
     "name": "stdout",
     "output_type": "stream",
     "text": [
      "5\n",
      "o\n",
      "E\n"
     ]
    }
   ],
   "source": [
    "str1= \"HELLo\"\n",
    "print(len(str1))\n",
    "print(max(str1))\n",
    "print(min(str1))"
   ]
  },
  {
   "cell_type": "markdown",
   "metadata": {},
   "source": [
    "# String indexing\n"
   ]
  },
  {
   "cell_type": "markdown",
   "metadata": {},
   "source": [
    "## Method 1: Using the slice() method\n",
    "The slice() constructor creates a slice object representing the set of indices specified by range(start, stop, step).\n",
    "\n",
    "Syntax:\n",
    "\n",
    "slice(stop)\n",
    "slice(start, stop, step)\n",
    "\n",
    "Parameters: start: Starting index where the slicing of object starts. stop: Ending index where the slicing of object stops. step: It is an optional argument that determines the increment between each index for slicing. Return Type: Returns a sliced object containing elements in the given range only. "
   ]
  },
  {
   "cell_type": "code",
   "execution_count": 11,
   "metadata": {},
   "outputs": [
    {
     "name": "stdout",
     "output_type": "stream",
     "text": [
      "AST\n",
      "SR\n",
      "GITA\n"
     ]
    }
   ],
   "source": [
    "String = 'ASTRING'\n",
    "\n",
    "# Using slice constructor\n",
    "s1 = slice(3)\n",
    "s2 = slice(1, 5, 2)\n",
    "s3 = slice(-1, -12, -2)\n",
    "\n",
    "print(String[s1])\n",
    "print(String[s2])\n",
    "print(String[s3])"
   ]
  },
  {
   "cell_type": "code",
   "execution_count": 13,
   "metadata": {},
   "outputs": [
    {
     "data": {
      "text/plain": [
       "slice(None, 3, None)"
      ]
     },
     "execution_count": 13,
     "metadata": {},
     "output_type": "execute_result"
    }
   ],
   "source": [
    "String = 'ASTRING'\n",
    "\n",
    "# Using slice constructor\n",
    "s1 = slice(3)\n",
    "s2 = slice(1, 5, 2)\n",
    "s3 = slice(-1, -12, -2)\n",
    "\n",
    "s1\n"
   ]
  },
  {
   "cell_type": "code",
   "execution_count": 16,
   "metadata": {},
   "outputs": [
    {
     "data": {
      "text/plain": [
       "'AST'"
      ]
     },
     "execution_count": 16,
     "metadata": {},
     "output_type": "execute_result"
    }
   ],
   "source": [
    "String = 'ASTRING'\n",
    "\n",
    "# Using slice constructor\n",
    "s1 = slice(3)\n",
    "s2 = slice(1, 5, 2)\n",
    "s3 = slice(-1, -12, -2)\n",
    "\n",
    "String[s1]"
   ]
  },
  {
   "cell_type": "code",
   "execution_count": 17,
   "metadata": {},
   "outputs": [
    {
     "ename": "TypeError",
     "evalue": "'str' object is not callable",
     "output_type": "error",
     "traceback": [
      "\u001b[1;31m---------------------------------------------------------------------------\u001b[0m",
      "\u001b[1;31mTypeError\u001b[0m                                 Traceback (most recent call last)",
      "\u001b[1;32m<ipython-input-17-d3b31a25b862>\u001b[0m in \u001b[0;36m<module>\u001b[1;34m\u001b[0m\n\u001b[0;32m      6\u001b[0m \u001b[0ms3\u001b[0m \u001b[1;33m=\u001b[0m \u001b[0mslice\u001b[0m\u001b[1;33m(\u001b[0m\u001b[1;33m-\u001b[0m\u001b[1;36m1\u001b[0m\u001b[1;33m,\u001b[0m \u001b[1;33m-\u001b[0m\u001b[1;36m12\u001b[0m\u001b[1;33m,\u001b[0m \u001b[1;33m-\u001b[0m\u001b[1;36m2\u001b[0m\u001b[1;33m)\u001b[0m\u001b[1;33m\u001b[0m\u001b[1;33m\u001b[0m\u001b[0m\n\u001b[0;32m      7\u001b[0m \u001b[1;33m\u001b[0m\u001b[0m\n\u001b[1;32m----> 8\u001b[1;33m \u001b[0mString\u001b[0m\u001b[1;33m(\u001b[0m\u001b[0ms1\u001b[0m\u001b[1;33m)\u001b[0m\u001b[1;33m\u001b[0m\u001b[1;33m\u001b[0m\u001b[0m\n\u001b[0m",
      "\u001b[1;31mTypeError\u001b[0m: 'str' object is not callable"
     ]
    }
   ],
   "source": [
    "String = 'ASTRING'\n",
    "\n",
    "# Using slice constructor\n",
    "s1 = slice(3)\n",
    "s2 = slice(1, 5, 2)\n",
    "s3 = slice(-1, -12, -2)\n",
    "\n",
    "String(s1)"
   ]
  },
  {
   "cell_type": "markdown",
   "metadata": {},
   "source": [
    "## Method 2: Using the List/array slicing  [ :: ]  method\n",
    "arr[start:stop]         # items start through stop-1\n",
    "arr[start:]             # items start through the rest of the array\n",
    "arr[:stop]              # items from the beginning through stop-1\n",
    "arr[:]                  # a copy of the whole array\n",
    "arr[start:stop:step]    # start through not past stop, by step\n",
    "    "
   ]
  },
  {
   "cell_type": "code",
   "execution_count": 57,
   "metadata": {},
   "outputs": [
    {
     "name": "stdout",
     "output_type": "stream",
     "text": [
      "FAIL means 'First attempt in learning'\n",
      "38\n"
     ]
    }
   ],
   "source": [
    "str1=\"FAIL means 'First attempt in learning'\"\n",
    "print(str1)\n",
    "print(len(str1))"
   ]
  },
  {
   "cell_type": "code",
   "execution_count": 58,
   "metadata": {},
   "outputs": [
    {
     "name": "stdout",
     "output_type": "stream",
     "text": [
      "F\n",
      "'\n",
      "i\n",
      "e\n"
     ]
    }
   ],
   "source": [
    "print(str1[0]) # First character in string \"str1\"\n",
    "print(str1[-1]) # Last character in string\n",
    "print(str1[-4])\n",
    "print(str1[6]) #Fetch 7th element of the string "
   ]
  },
  {
   "cell_type": "code",
   "execution_count": 51,
   "metadata": {},
   "outputs": [
    {
     "name": "stdout",
     "output_type": "stream",
     "text": [
      "'\n"
     ]
    }
   ],
   "source": [
    "print(str1[len(str1)-1])# Last character in string using len function\n"
   ]
  },
  {
   "cell_type": "code",
   "execution_count": 55,
   "metadata": {},
   "outputs": [
    {
     "name": "stdout",
     "output_type": "stream",
     "text": [
      "Happy\n",
      "Life,W\n",
      "come\n",
      "Happ\n",
      "emocleW,efiL yppaH\n",
      "\n",
      ",Wel\n"
     ]
    }
   ],
   "source": [
    "str1=\"Happy Life,Welcome\"\n",
    "print(str1[0:5])\n",
    "print(str1[6:12])\n",
    "print(str1[-4:]) # Retreive last four characters of the string\n",
    "print(str1[:4])  # Retreive first four characters of the string\n",
    "print(str1[::-1]) #reversal\n",
    "print(str1[-4:-8]) #no output\n",
    "print(str1[-8:-4])"
   ]
  },
  {
   "cell_type": "code",
   "execution_count": 56,
   "metadata": {},
   "outputs": [
    {
     "data": {
      "text/plain": [
       "''"
      ]
     },
     "execution_count": 56,
     "metadata": {},
     "output_type": "execute_result"
    }
   ],
   "source": [
    "str1=\"Happy Life,Welcome\"\n",
    "str1[-4:-8]"
   ]
  },
  {
   "cell_type": "markdown",
   "metadata": {},
   "source": [
    "# Update & Delete String\n",
    "#Strings are immutable which means elements of a string cannot be changed once they have been assigned."
   ]
  },
  {
   "cell_type": "code",
   "execution_count": 59,
   "metadata": {},
   "outputs": [
    {
     "ename": "TypeError",
     "evalue": "'str' object does not support item assignment",
     "output_type": "error",
     "traceback": [
      "\u001b[1;31m---------------------------------------------------------------------------\u001b[0m",
      "\u001b[1;31mTypeError\u001b[0m                                 Traceback (most recent call last)",
      "\u001b[1;32m<ipython-input-59-f41a7f68a655>\u001b[0m in \u001b[0;36m<module>\u001b[1;34m\u001b[0m\n\u001b[0;32m      1\u001b[0m \u001b[0mstr1\u001b[0m\u001b[1;33m=\u001b[0m\u001b[1;34m\"Happy Life,Welcome\"\u001b[0m\u001b[1;33m\u001b[0m\u001b[1;33m\u001b[0m\u001b[0m\n\u001b[1;32m----> 2\u001b[1;33m \u001b[0mstr1\u001b[0m\u001b[1;33m[\u001b[0m\u001b[1;36m0\u001b[0m\u001b[1;33m:\u001b[0m\u001b[1;36m3\u001b[0m\u001b[1;33m]\u001b[0m\u001b[1;33m=\u001b[0m\u001b[1;34m\"Hai\"\u001b[0m\u001b[1;33m\u001b[0m\u001b[1;33m\u001b[0m\u001b[0m\n\u001b[0m\u001b[0;32m      3\u001b[0m \u001b[0mprint\u001b[0m\u001b[1;33m(\u001b[0m\u001b[0mstr1\u001b[0m\u001b[1;33m)\u001b[0m\u001b[1;33m\u001b[0m\u001b[1;33m\u001b[0m\u001b[0m\n",
      "\u001b[1;31mTypeError\u001b[0m: 'str' object does not support item assignment"
     ]
    }
   ],
   "source": [
    "str1=\"Happy Life,Welcome\"\n",
    "str1[0:3]=\"Hai\"\n",
    "print(str1)"
   ]
  },
  {
   "cell_type": "code",
   "execution_count": 60,
   "metadata": {},
   "outputs": [
    {
     "name": "stdout",
     "output_type": "stream",
     "text": [
      "Welcome to home\n"
     ]
    },
    {
     "ename": "NameError",
     "evalue": "name 'str2' is not defined",
     "output_type": "error",
     "traceback": [
      "\u001b[1;31m---------------------------------------------------------------------------\u001b[0m",
      "\u001b[1;31mNameError\u001b[0m                                 Traceback (most recent call last)",
      "\u001b[1;32m<ipython-input-60-ad75d97ca58d>\u001b[0m in \u001b[0;36m<module>\u001b[1;34m\u001b[0m\n\u001b[0;32m      2\u001b[0m \u001b[0mprint\u001b[0m\u001b[1;33m(\u001b[0m\u001b[0mstr2\u001b[0m\u001b[1;33m)\u001b[0m\u001b[1;33m\u001b[0m\u001b[1;33m\u001b[0m\u001b[0m\n\u001b[0;32m      3\u001b[0m \u001b[1;32mdel\u001b[0m \u001b[0mstr2\u001b[0m\u001b[1;33m\u001b[0m\u001b[1;33m\u001b[0m\u001b[0m\n\u001b[1;32m----> 4\u001b[1;33m \u001b[0mprint\u001b[0m\u001b[1;33m(\u001b[0m\u001b[0mstr2\u001b[0m\u001b[1;33m)\u001b[0m\u001b[1;33m\u001b[0m\u001b[1;33m\u001b[0m\u001b[0m\n\u001b[0m",
      "\u001b[1;31mNameError\u001b[0m: name 'str2' is not defined"
     ]
    }
   ],
   "source": [
    "str2=\"Welcome to home\"\n",
    "print(str2)\n",
    "del str2\n",
    "print(str2)"
   ]
  },
  {
   "cell_type": "markdown",
   "metadata": {},
   "source": [
    "# String concatenation"
   ]
  },
  {
   "cell_type": "code",
   "execution_count": 61,
   "metadata": {
    "slideshow": {
     "slide_type": "slide"
    }
   },
   "outputs": [
    {
     "name": "stdout",
     "output_type": "stream",
     "text": [
      "HelloAsif\n"
     ]
    }
   ],
   "source": [
    "s1 = \"Hello\"\n",
    "s2 = \"Asif\"\n",
    "s3 = s1 + s2\n",
    "print(s3)\n"
   ]
  },
  {
   "cell_type": "code",
   "execution_count": 62,
   "metadata": {
    "slideshow": {
     "slide_type": "slide"
    }
   },
   "outputs": [
    {
     "name": "stdout",
     "output_type": "stream",
     "text": [
      "Hello Asif\n"
     ]
    }
   ],
   "source": [
    "s1 = \"Hello\"\n",
    "s2 = \"Asif\"\n",
    "s3 = s1 + \" \" + s2\n",
    "print(s3)\n"
   ]
  },
  {
   "cell_type": "markdown",
   "metadata": {
    "slideshow": {
     "slide_type": "slide"
    }
   },
   "source": [
    "# String Membership"
   ]
  },
  {
   "cell_type": "code",
   "execution_count": 65,
   "metadata": {
    "slideshow": {
     "slide_type": "slide"
    }
   },
   "outputs": [
    {
     "name": "stdout",
     "output_type": "stream",
     "text": [
      "True\n",
      "True\n",
      "False\n"
     ]
    }
   ],
   "source": [
    "mystr1 = \"Hello Everyone\"\n",
    "print ('Hello' in mystr1)\n",
    "print ('Everyone' in mystr1)\n",
    "print ('Hi' in mystr1)"
   ]
  },
  {
   "cell_type": "code",
   "execution_count": 66,
   "metadata": {},
   "outputs": [
    {
     "name": "stdout",
     "output_type": "stream",
     "text": [
      "False\n",
      "False\n",
      "True\n"
     ]
    }
   ],
   "source": [
    "mystr1 = \"Hello Everyone\"\n",
    "print ('Hello' not in mystr1)\n",
    "print ('Everyone' not in mystr1)\n",
    "print ('Hi' not in mystr1)"
   ]
  },
  {
   "cell_type": "markdown",
   "metadata": {},
   "source": [
    "# String functions"
   ]
  },
  {
   "cell_type": "markdown",
   "metadata": {
    "slideshow": {
     "slide_type": "slide"
    }
   },
   "source": [
    "# String partioning\n",
    "The partition() method searches for a specified string, and splits the string into a tuple containing three elements.\n",
    "\n",
    "string.partition(value)\n",
    "\n",
    "The first element contains the part before the specified string.\n",
    "\n",
    "The second element contains the specified string.\n",
    "\n",
    "The third element contains the part after the string.\n",
    "\n",
    "Note: This method searches for the first occurrence of the specified string."
   ]
  },
  {
   "cell_type": "code",
   "execution_count": 4,
   "metadata": {},
   "outputs": [
    {
     "name": "stdout",
     "output_type": "stream",
     "text": [
      "<class 'tuple'>\n",
      "('Welcome to ', 'the', ' Python lab')\n"
     ]
    }
   ],
   "source": [
    "str1=\"Welcome to the Python lab\"\n",
    "x=str1.partition(\"the\")\n",
    "print(type(x))\n",
    "print(x) # the output is  a tuple\n"
   ]
  },
  {
   "cell_type": "code",
   "execution_count": 6,
   "metadata": {},
   "outputs": [
    {
     "name": "stdout",
     "output_type": "stream",
     "text": [
      "<class 'tuple'>\n",
      "('Welcome to the Python lab', '', '')\n"
     ]
    }
   ],
   "source": [
    "str1=\"Welcome to the Python lab\"\n",
    "x=str1.partition(\"and\")\n",
    "print(type(x))\n",
    "print(x) # the output is  a tuple"
   ]
  },
  {
   "cell_type": "code",
   "execution_count": 7,
   "metadata": {},
   "outputs": [
    {
     "name": "stdout",
     "output_type": "stream",
     "text": [
      "<class 'tuple'>\n",
      "('Welcome to the Python lab', '', '')\n"
     ]
    }
   ],
   "source": [
    "str1=\"Welcome to the Python lab\"\n",
    "x=str1.partition('hi')\n",
    "print(type(x))\n",
    "print(x) # the output is  a tuple"
   ]
  },
  {
   "cell_type": "code",
   "execution_count": 11,
   "metadata": {},
   "outputs": [
    {
     "name": "stdout",
     "output_type": "stream",
     "text": [
      "<class 'tuple'>\n",
      "('The earth is ', 'tHe', ' beautiful place to live')\n"
     ]
    }
   ],
   "source": [
    "str2=\"The earth is tHe beautiful place to live\"\n",
    "x=str2.partition('tHe') #checks for the perfect match\n",
    "print(type(x))\n",
    "print(x)"
   ]
  },
  {
   "cell_type": "code",
   "execution_count": 13,
   "metadata": {},
   "outputs": [
    {
     "name": "stdout",
     "output_type": "stream",
     "text": [
      "<class 'tuple'>\n",
      "('', 'Welcome', \" to the 'Welcome' Python lab\")\n"
     ]
    }
   ],
   "source": [
    "str1=\"Welcome to the 'Welcome' Python lab\"\n",
    "x=str1.partition('Welcome')\n",
    "print(type(x))\n",
    "print(x)"
   ]
  },
  {
   "cell_type": "code",
   "execution_count": 14,
   "metadata": {},
   "outputs": [
    {
     "name": "stdout",
     "output_type": "stream",
     "text": [
      "<class 'tuple'>\n",
      "('I like to ', 'live', ', I like to live')\n"
     ]
    }
   ],
   "source": [
    "str1=\"I like to live, I like to live\"\n",
    "x=str1.partition('live')\n",
    "print(type(x))\n",
    "print(x)"
   ]
  },
  {
   "cell_type": "markdown",
   "metadata": {},
   "source": [
    "# rpartition() method \n",
    "It searches for the last occurrence of a specified string, and splits the string into a tuple containing three elements.\n",
    "\n",
    "The first element contains the part before the specified string.\n",
    "\n",
    "The second element contains the specified string.\n",
    "\n",
    "The third element contains the part after the string."
   ]
  },
  {
   "cell_type": "code",
   "execution_count": 15,
   "metadata": {},
   "outputs": [
    {
     "name": "stdout",
     "output_type": "stream",
     "text": [
      "<class 'tuple'>\n",
      "('I like to live, I like to ', 'live', '')\n"
     ]
    }
   ],
   "source": [
    "str1=\"I like to live, I like to live\"\n",
    "x=str1.rpartition('live')\n",
    "print(type(x))\n",
    "print(x)"
   ]
  },
  {
   "cell_type": "code",
   "execution_count": 16,
   "metadata": {},
   "outputs": [
    {
     "name": "stdout",
     "output_type": "stream",
     "text": [
      "<class 'tuple'>\n",
      "('I like to live, I like to ', 'live', ' my life')\n"
     ]
    }
   ],
   "source": [
    "str1=\"I like to live, I like to live my life\"\n",
    "x=str1.rpartition('live')\n",
    "print(type(x))\n",
    "print(x)"
   ]
  },
  {
   "cell_type": "code",
   "execution_count": 17,
   "metadata": {},
   "outputs": [
    {
     "name": "stdout",
     "output_type": "stream",
     "text": [
      "<class 'tuple'>\n",
      "('', '', 'I like to live, I like to live')\n"
     ]
    }
   ],
   "source": [
    "str1=\"I like to live, I like to live\"\n",
    "x=str1.rpartition('and')\n",
    "print(type(x))\n",
    "print(x)"
   ]
  },
  {
   "cell_type": "markdown",
   "metadata": {},
   "source": [
    "# rsplit()\n",
    "\n",
    "string.rsplit(separator, maxsplit)\n",
    "\n",
    "The rsplit() method in Python is used to split a string into a list, just like split(), \n",
    "but with a key difference:\n",
    "    it splits the string from the right side rather than the left. \n",
    "    This is particularly useful when you want to limit the number of splits \n",
    "    starting from the right side."
   ]
  },
  {
   "cell_type": "code",
   "execution_count": 26,
   "metadata": {},
   "outputs": [
    {
     "name": "stdout",
     "output_type": "stream",
     "text": [
      "<class 'list'>\n",
      "['apple, banana', 'cherry']\n"
     ]
    }
   ],
   "source": [
    "text = \"apple, banana, cherry\"\n",
    "result = text.rsplit(\", \",1 )  # Split once from the right\n",
    "print(type(result))\n",
    "print(result) # result is  a list\n"
   ]
  },
  {
   "cell_type": "code",
   "execution_count": 35,
   "metadata": {},
   "outputs": [
    {
     "name": "stdout",
     "output_type": "stream",
     "text": [
      "<class 'list'>\n",
      "['apple,banana,cherry']\n"
     ]
    }
   ],
   "source": [
    "text = \"apple,banana,cherry\"\n",
    "result = text.rsplit(\", \",1 )  # Split once from the right , Note the difference\n",
    "print(type(result))\n",
    "print(result) # result is  a list\n"
   ]
  },
  {
   "cell_type": "code",
   "execution_count": 38,
   "metadata": {},
   "outputs": [
    {
     "name": "stdout",
     "output_type": "stream",
     "text": [
      "<class 'list'>\n",
      "['apple,banana,cherry', 'grapes', 'citrus']\n"
     ]
    }
   ],
   "source": [
    "text = \"apple,banana,cherry,grapes,citrus\"\n",
    "result = text.rsplit(\",\", 2)  # Split once from the right\n",
    "print(type(result))\n",
    "print(result) "
   ]
  },
  {
   "cell_type": "code",
   "execution_count": 41,
   "metadata": {},
   "outputs": [
    {
     "name": "stdout",
     "output_type": "stream",
     "text": [
      "<class 'list'>\n",
      "['a-b-c-d', 'e', 'f']\n"
     ]
    }
   ],
   "source": [
    "text = \"a-b-c-d-e-f\"\n",
    "result = text.rsplit(\"-\", 2)  # Split at most 2 times from the right\n",
    "print(type(result))\n",
    "print(result)"
   ]
  },
  {
   "cell_type": "code",
   "execution_count": 40,
   "metadata": {},
   "outputs": [
    {
     "name": "stdout",
     "output_type": "stream",
     "text": [
      "<class 'list'>\n",
      "['a', 'b', 'c-d-e-f']\n"
     ]
    }
   ],
   "source": [
    "text = \"a-b-c-d-e-f\"\n",
    "result = text.split(\"-\", 2)  # Split at most 2 times from the left\n",
    "print(type(result))\n",
    "print(result)"
   ]
  },
  {
   "cell_type": "markdown",
   "metadata": {},
   "source": [
    "# Practice:\n",
    "    You are given a string that represents a file path, such as:\n",
    "\n",
    "\"/home/user/documents/project/file.txt\"\n",
    "\n",
    "Task 1: Using split()\n",
    "Write a Python program that splits this string using / as a separator to break it into individual directories and the filename.\n",
    "Print the resulting list of directories and the filename.\n",
    "\n",
    "Task 2: Using rsplit()\n",
    "Modify the program to split the string into two parts:\n",
    "The file path before the last /.\n",
    "The filename (the part after the last /)."
   ]
  },
  {
   "cell_type": "code",
   "execution_count": 42,
   "metadata": {},
   "outputs": [
    {
     "name": "stdout",
     "output_type": "stream",
     "text": [
      "Using split(): ['', 'home', 'user', 'documents', 'project', 'file.txt']\n",
      "Using rsplit(): ['/home/user/documents/project', 'file.txt']\n"
     ]
    }
   ],
   "source": [
    "# Input string (file path)\n",
    "file_path = \"/home/user/documents/project/file.txt\"\n",
    "\n",
    "# Task 1: Using split()\n",
    "path_split = file_path.split('/')\n",
    "print(\"Using split():\", path_split)\n",
    "\n",
    "# Task 2: Using rsplit() with maxsplit = 1\n",
    "path_rsplit = file_path.rsplit('/', 1)\n",
    "print(\"Using rsplit():\", path_rsplit)\n"
   ]
  },
  {
   "cell_type": "code",
   "execution_count": 48,
   "metadata": {},
   "outputs": [
    {
     "name": "stdout",
     "output_type": "stream",
     "text": [
      "3\n",
      "2\n"
     ]
    }
   ],
   "source": [
    "str2 = \"one two Three one two two three\"\n",
    "x=str2.count('two')\n",
    "y=str2.count('one')\n",
    "print(x)\n",
    "print(y)"
   ]
  },
  {
   "cell_type": "code",
   "execution_count": 74,
   "metadata": {},
   "outputs": [
    {
     "name": "stdout",
     "output_type": "stream",
     "text": [
      "31\n",
      "2\n",
      "3\n",
      "2\n"
     ]
    }
   ],
   "source": [
    "str2 = \"one two Three one two two three\"\n",
    "print(len(str2))\n",
    "x1=str2.count('two',10,30)\n",
    "x2=str2.count('two')\n",
    "y=str2.count('one')\n",
    "print(x1)\n",
    "print(x2)\n",
    "print(y)"
   ]
  },
  {
   "cell_type": "code",
   "execution_count": 50,
   "metadata": {},
   "outputs": [
    {
     "data": {
      "text/plain": [
       "True"
      ]
     },
     "execution_count": 50,
     "metadata": {},
     "output_type": "execute_result"
    }
   ],
   "source": [
    "str2.startswith('one')"
   ]
  },
  {
   "cell_type": "code",
   "execution_count": 51,
   "metadata": {},
   "outputs": [
    {
     "data": {
      "text/plain": [
       "False"
      ]
     },
     "execution_count": 51,
     "metadata": {},
     "output_type": "execute_result"
    }
   ],
   "source": [
    "str2.startswith('two')"
   ]
  },
  {
   "cell_type": "code",
   "execution_count": 52,
   "metadata": {},
   "outputs": [
    {
     "data": {
      "text/plain": [
       "False"
      ]
     },
     "execution_count": 52,
     "metadata": {},
     "output_type": "execute_result"
    }
   ],
   "source": [
    "str2.endswith('one')"
   ]
  },
  {
   "cell_type": "code",
   "execution_count": 53,
   "metadata": {},
   "outputs": [
    {
     "data": {
      "text/plain": [
       "True"
      ]
     },
     "execution_count": 53,
     "metadata": {},
     "output_type": "execute_result"
    }
   ],
   "source": [
    "str2.endswith('three')"
   ]
  },
  {
   "cell_type": "markdown",
   "metadata": {},
   "source": [
    "# f-string and format()\n",
    "F-String was introduced in Python 3.6, and is now the preferred way of formatting strings.\n",
    "\n",
    "Before Python 3.6 we had to use the format() method.\n",
    "\n",
    "f-strings:\n",
    "\n",
    "To format values in an f-string, add placeholders {}, a placeholder can contain variables, operations, functions, and modifiers to format the value.\n",
    "\n",
    "A placeholder can also include a modifier to format the value.\n",
    "\n",
    "A modifier is included by adding a colon : followed by a legal formatting type, like .2f which means fixed point number with 2 decimals:\n"
   ]
  },
  {
   "cell_type": "code",
   "execution_count": 66,
   "metadata": {},
   "outputs": [
    {
     "name": "stdout",
     "output_type": "stream",
     "text": [
      "Hello, Jane! You're 25 years old.\n"
     ]
    }
   ],
   "source": [
    "name = \"Jane\"\n",
    "age = 25\n",
    "\n",
    "print(\"Hello, %s! You're %s years old.\" % (name, age)) #note the placement of operators\n"
   ]
  },
  {
   "cell_type": "code",
   "execution_count": 54,
   "metadata": {},
   "outputs": [
    {
     "name": "stdout",
     "output_type": "stream",
     "text": [
      "The price is 59.00 dollars\n"
     ]
    }
   ],
   "source": [
    "price = 59  #f-string\n",
    "txt = f\"The price is {price:.2f} dollars\"\n",
    "print(txt)"
   ]
  },
  {
   "cell_type": "code",
   "execution_count": 55,
   "metadata": {},
   "outputs": [
    {
     "name": "stdout",
     "output_type": "stream",
     "text": [
      "The price is 59.42 dollars\n"
     ]
    }
   ],
   "source": [
    "price = 59.425\n",
    "txt = f\"The price is {price:.2f} dollars\"\n",
    "print(txt)"
   ]
  },
  {
   "cell_type": "code",
   "execution_count": 56,
   "metadata": {},
   "outputs": [
    {
     "name": "stdout",
     "output_type": "stream",
     "text": [
      "The price is 59.00 dollars\n"
     ]
    }
   ],
   "source": [
    "price = 59\n",
    "print(f\"The price is {price:.2f} dollars\")"
   ]
  },
  {
   "cell_type": "code",
   "execution_count": 57,
   "metadata": {},
   "outputs": [
    {
     "name": "stdout",
     "output_type": "stream",
     "text": [
      "The price is 73.75 dollars\n"
     ]
    }
   ],
   "source": [
    "price = 59\n",
    "tax = 0.25\n",
    "txt = f\"The price is {price + (price * tax)} dollars\"  #using operators\n",
    "print(txt)"
   ]
  },
  {
   "cell_type": "code",
   "execution_count": 58,
   "metadata": {},
   "outputs": [
    {
     "name": "stdout",
     "output_type": "stream",
     "text": [
      "It is very Cheap\n"
     ]
    }
   ],
   "source": [
    "price = 49\n",
    "txt = f\"It is very {'Expensive' if price>50 else 'Cheap'}\"\n",
    "\n",
    "print(txt)"
   ]
  },
  {
   "cell_type": "code",
   "execution_count": 60,
   "metadata": {},
   "outputs": [
    {
     "name": "stdout",
     "output_type": "stream",
     "text": [
      "The price is 5,900 dollars\n"
     ]
    }
   ],
   "source": [
    "price = 5900\n",
    "txt = f\"The price is {price:,} dollars\"  # using comma as thousand operator\n",
    "print(txt)"
   ]
  },
  {
   "cell_type": "code",
   "execution_count": 61,
   "metadata": {},
   "outputs": [
    {
     "name": "stdout",
     "output_type": "stream",
     "text": [
      "The price is 59,000 dollars\n"
     ]
    }
   ],
   "source": [
    "price = 59000\n",
    "txt = f\"The price is {price:,} dollars\"\n",
    "print(txt)"
   ]
  },
  {
   "cell_type": "code",
   "execution_count": 63,
   "metadata": {},
   "outputs": [
    {
     "name": "stdout",
     "output_type": "stream",
     "text": [
      "The price is 590 dollars\n"
     ]
    }
   ],
   "source": [
    "price = 590\n",
    "txt = f\"The price is {price:,} dollars\"\n",
    "print(txt)"
   ]
  },
  {
   "cell_type": "code",
   "execution_count": 67,
   "metadata": {},
   "outputs": [
    {
     "name": "stdout",
     "output_type": "stream",
     "text": [
      "Variables: full_name='Trey Hunner', costs=[1.1, 0.3, 0.4, 2]\n"
     ]
    }
   ],
   "source": [
    "full_name = \"Trey Hunner\"\n",
    "costs = [1.10, 0.30, 0.40, 2]\n",
    "print(f\"Variables: {full_name=}, {costs=}\")"
   ]
  },
  {
   "cell_type": "code",
   "execution_count": 68,
   "metadata": {},
   "outputs": [
    {
     "name": "stdout",
     "output_type": "stream",
     "text": [
      "255\n",
      "11111111\n",
      "ff\n",
      "377\n"
     ]
    }
   ],
   "source": [
    "num = 255\n",
    "print(f\"{num:d}\")  # Decimal (255)\n",
    "print(f\"{num:b}\")  # Binary (11111111)\n",
    "print(f\"{num:x}\")  # Hexadecimal (ff)\n",
    "print(f\"{num:o}\")  # Octal (377)\n"
   ]
  },
  {
   "cell_type": "code",
   "execution_count": 69,
   "metadata": {},
   "outputs": [
    {
     "name": "stdout",
     "output_type": "stream",
     "text": [
      "+42\n",
      "-42\n",
      " 42\n"
     ]
    }
   ],
   "source": [
    "pos_num = 42\n",
    "neg_num = -42\n",
    "print(f\"{pos_num:+}\")  # +42\n",
    "print(f\"{neg_num:+}\")  # -42, Always show the sign (either + or -).\n",
    "print(f\"{pos_num: }\")  #  42 (with space)\n"
   ]
  },
  {
   "cell_type": "code",
   "execution_count": 75,
   "metadata": {},
   "outputs": [
    {
     "name": "stdout",
     "output_type": "stream",
     "text": [
      "+42\n",
      "-42\n",
      " 42\n",
      "-42\n"
     ]
    }
   ],
   "source": [
    "pos_num = 42\n",
    "neg_num = -42\n",
    "print(f\"{pos_num:+}\") \n",
    "print(f\"{neg_num:-}\")  \n",
    "print(f\"{pos_num: }\") \n",
    "print(f\"{neg_num: }\")"
   ]
  },
  {
   "cell_type": "code",
   "execution_count": 77,
   "metadata": {},
   "outputs": [
    {
     "name": "stdout",
     "output_type": "stream",
     "text": [
      "+42\n",
      "42\n",
      " 42\n",
      "-42\n",
      "-42\n",
      "-42\n"
     ]
    }
   ],
   "source": [
    "pos_num = 42\n",
    "neg_num = -42\n",
    "print(f\"{pos_num:+}\")  \n",
    "print(f\"{pos_num:-}\")  \n",
    "print(f\"{pos_num: }\") \n",
    "print(f\"{neg_num: }\")\n",
    "print(f\"{neg_num:+}\")\n",
    "print(f\"{neg_num:-}\")"
   ]
  },
  {
   "cell_type": "code",
   "execution_count": 72,
   "metadata": {},
   "outputs": [
    {
     "name": "stdout",
     "output_type": "stream",
     "text": [
      "00042\n"
     ]
    }
   ],
   "source": [
    "num = 42\n",
    "print(f\"{num:05}\")  # Pads with zeros, output: 00042\n"
   ]
  },
  {
   "cell_type": "code",
   "execution_count": 73,
   "metadata": {},
   "outputs": [
    {
     "name": "stdout",
     "output_type": "stream",
     "text": [
      "Pi is approximately 000003.142\n",
      "12,345.68\n"
     ]
    }
   ],
   "source": [
    "pi = 3.1415926535\n",
    "print(f\"Pi is approximately {pi:010.3f}\")  # Zero-padded, width 10, 3 decimal places\n",
    "\n",
    "number = 12345.6789\n",
    "print(f\"{number:,.2f}\")  # Adds commas, two decimal places\n"
   ]
  },
  {
   "cell_type": "code",
   "execution_count": 82,
   "metadata": {},
   "outputs": [
    {
     "name": "stdout",
     "output_type": "stream",
     "text": [
      "Using Numeric variable = 10\n",
      "This prints without formatting 10\n",
      "This prints with formatting 10\n",
      "This prints also with formatting 10\n",
      "This prints with spacing         10\n",
      "\n",
      "Using Numeric variable = 3.141592653589793\n",
      "This prints without formatting 3.141592653589793\n",
      "This prints with formatting 3.141593\n",
      "This prints with spacing             3.141593\n"
     ]
    }
   ],
   "source": [
    "import math\n",
    "variable = 10\n",
    "print(f\"Using Numeric {variable = }\")\n",
    "print(f\"This prints without formatting {variable}\")\n",
    "print(f\"This prints with formatting {variable:d}\")\n",
    "print(f\"This prints also with formatting {variable:n}\")\n",
    "print(f\"This prints with spacing {variable:10d}\\n\")\n",
    "variable = math.pi\n",
    "print(f\"Using Numeric {variable = }\")\n",
    "print(f\"This prints without formatting {variable}\")\n",
    "print(f\"This prints with formatting {variable:f}\")\n",
    "print(f\"This prints with spacing {variable:20f}\")"
   ]
  },
  {
   "cell_type": "markdown",
   "metadata": {},
   "source": [
    "## \n",
    "The format() method can still be used, but f-strings are faster and \n",
    "the preferred way to format strings."
   ]
  },
  {
   "cell_type": "code",
   "execution_count": 78,
   "metadata": {},
   "outputs": [
    {
     "name": "stdout",
     "output_type": "stream",
     "text": [
      "Cost of item1 , item2 and item3 are 40 , 55 and 77\n"
     ]
    }
   ],
   "source": [
    "# Combining string & numbers using format method\n",
    "item1 = 40\n",
    "item2 = 55\n",
    "item3 = 77\n",
    "res = \"Cost of item1 , item2 and item3 are {} , {} and {}\"\n",
    "print(res.format(item1,item2,item3))"
   ]
  },
  {
   "cell_type": "code",
   "execution_count": 80,
   "metadata": {},
   "outputs": [
    {
     "name": "stdout",
     "output_type": "stream",
     "text": [
      "Cost of item3 , item2 and item1 are 77 , 55 and 40\n"
     ]
    }
   ],
   "source": [
    "item1 = 40\n",
    "item2 = 55\n",
    "item3 = 77\n",
    "res = \"Cost of item3 , item2 and item1 are {2} , {1} and {0}\"\n",
    "print(res.format(item1,item2,item3))"
   ]
  },
  {
   "cell_type": "code",
   "execution_count": 79,
   "metadata": {},
   "outputs": [
    {
     "name": "stdout",
     "output_type": "stream",
     "text": [
      "I want 3 pieces of item number 567 for 49.00 dollars.\n"
     ]
    }
   ],
   "source": [
    "quantity = 3\n",
    "itemno = 567\n",
    "price = 49\n",
    "myorder = \"I want {} pieces of item number {} for {:.2f} dollars.\"\n",
    "print(myorder.format(quantity, itemno, price))"
   ]
  },
  {
   "cell_type": "code",
   "execution_count": 81,
   "metadata": {},
   "outputs": [
    {
     "name": "stdout",
     "output_type": "stream",
     "text": [
      "I have a Ford, it is a Mustang.\n"
     ]
    }
   ],
   "source": [
    "#named indexes\n",
    "myorder = \"I have a {carname}, it is a {model}.\"\n",
    "print(myorder.format(carname = \"Ford\", model = \"Mustang\"))"
   ]
  },
  {
   "cell_type": "markdown",
   "metadata": {},
   "source": [
    "# center()\n",
    "Python String center() method creates and returns a new string that is padded with the specified character.\n",
    "\n",
    "\n",
    "Syntax:  string.center(length[, fillchar])\n",
    "\n",
    "\n",
    "Parameters:\n",
    "\n",
    "\n",
    "length: length of the string after padding with the characters.\n",
    "fillchar: (optional) characters which need to be padded. If it’s not provided, space is taken as the default argument.\n",
    "\n",
    "Returns: Returns a string padded with specified fillchar and it doesn’t modify the original string.\n",
    "\n"
   ]
  },
  {
   "cell_type": "code",
   "execution_count": 6,
   "metadata": {},
   "outputs": [
    {
     "name": "stdout",
     "output_type": "stream",
     "text": [
      "                                          WELCOME EVERYONE                                          \n"
     ]
    }
   ],
   "source": [
    "str2 = \" WELCOME EVERYONE \"\n",
    "str2 = str2.center(100) \n",
    "print(str2)"
   ]
  },
  {
   "cell_type": "code",
   "execution_count": 7,
   "metadata": {},
   "outputs": [
    {
     "name": "stdout",
     "output_type": "stream",
     "text": [
      "18\n",
      "                 WELCOME EVERYONE                 \n"
     ]
    }
   ],
   "source": [
    "str2 = \" WELCOME EVERYONE \"\n",
    "print(len(str2))\n",
    "str2 = str2.center(50) \n",
    "print(str2)"
   ]
  },
  {
   "cell_type": "code",
   "execution_count": 9,
   "metadata": {},
   "outputs": [
    {
     "name": "stdout",
     "output_type": "stream",
     "text": [
      "18\n",
      " WELCOME EVERYONE \n"
     ]
    }
   ],
   "source": [
    "str2 = \" WELCOME EVERYONE \"\n",
    "print(len(str2))\n",
    "print(str2)"
   ]
  },
  {
   "cell_type": "code",
   "execution_count": 12,
   "metadata": {},
   "outputs": [
    {
     "name": "stdout",
     "output_type": "stream",
     "text": [
      "18\n",
      "     WELCOME EVERYONE    \n"
     ]
    }
   ],
   "source": [
    "str2 = \" WELCOME EVERYONE \"\n",
    "print(len(str2))\n",
    "str2 = str2.center(25) \n",
    "print(str2)"
   ]
  },
  {
   "cell_type": "code",
   "execution_count": 14,
   "metadata": {},
   "outputs": [
    {
     "name": "stdout",
     "output_type": "stream",
     "text": [
      "18\n",
      " WELCOME EVERYONE \n"
     ]
    }
   ],
   "source": [
    "str2 = \" WELCOME EVERYONE \"\n",
    "print(len(str2))\n",
    "str2 = str2.center(15) \n",
    "'''Here, in the output, the new string is unchanged, because the original string length (18) \n",
    "is more than the length value provided (15). \n",
    "Thus, the new string returned is unchanged.\n",
    "'''\n",
    "print(str2)"
   ]
  },
  {
   "cell_type": "code",
   "execution_count": 4,
   "metadata": {},
   "outputs": [
    {
     "name": "stdout",
     "output_type": "stream",
     "text": [
      "18\n",
      "**************** WELCOME EVERYONE ****************\n"
     ]
    }
   ],
   "source": [
    "str2 = \" WELCOME EVERYONE \"\n",
    "print(len(str2))\n",
    "str2 = str2.center(50,'*') \n",
    "print(str2)"
   ]
  },
  {
   "cell_type": "markdown",
   "metadata": {},
   "source": [
    "## rjust() and ljust()\n",
    "\n",
    "String rjust() The string rjust() method returns a new string of given length after substituting\n",
    "a given character in left side of original string.\n",
    "\n",
    "The string ljust() method returns a new string of given length after substituting \n",
    "a given character in right side of original string."
   ]
  },
  {
   "cell_type": "code",
   "execution_count": 31,
   "metadata": {},
   "outputs": [
    {
     "name": "stdout",
     "output_type": "stream",
     "text": [
      "                                 WELCOME EVERYONE \n"
     ]
    }
   ],
   "source": [
    "str2 = \" WELCOME EVERYONE \"\n",
    "str2 = str2.rjust(50) # Right align the string \n",
    "print(str2)"
   ]
  },
  {
   "cell_type": "code",
   "execution_count": 32,
   "metadata": {},
   "outputs": [
    {
     "name": "stdout",
     "output_type": "stream",
     "text": [
      "                                                                                                                                                                                       WELCOME EVERYONE \n"
     ]
    }
   ],
   "source": [
    "str2 = \" WELCOME EVERYONE \"\n",
    "str2 = str2.rjust(200) # Right align the string \n",
    "print(str2)"
   ]
  },
  {
   "cell_type": "code",
   "execution_count": 16,
   "metadata": {},
   "outputs": [
    {
     "name": "stdout",
     "output_type": "stream",
     "text": [
      "-------------------------------- WELCOME EVERYONE \n"
     ]
    }
   ],
   "source": [
    "str2 = \" WELCOME EVERYONE \"\n",
    "str2 = str2.rjust(50,\"-\") # Right align the string using a specific character\n",
    "print(str2)"
   ]
  },
  {
   "cell_type": "code",
   "execution_count": 33,
   "metadata": {},
   "outputs": [
    {
     "name": "stdout",
     "output_type": "stream",
     "text": [
      "------------------------------------------------------------------------------------------------------------------------------------ WELCOME EVERYONE \n"
     ]
    }
   ],
   "source": [
    "str2 = \" WELCOME EVERYONE \"\n",
    "str2 = str2.rjust(150,\"-\") # Right align the string using a specific character\n",
    "print(str2)"
   ]
  },
  {
   "cell_type": "code",
   "execution_count": 29,
   "metadata": {},
   "outputs": [
    {
     "name": "stdout",
     "output_type": "stream",
     "text": [
      "17\n",
      "WELCOME EVERYONE                                                                                                                                                                                        \n"
     ]
    }
   ],
   "source": [
    "str2 = \"WELCOME EVERYONE \"\n",
    "print(len(str2))\n",
    "str2 = str2.ljust(200) # left align the string \n",
    "print(str2)"
   ]
  },
  {
   "cell_type": "code",
   "execution_count": 17,
   "metadata": {},
   "outputs": [
    {
     "name": "stdout",
     "output_type": "stream",
     "text": [
      " WELCOME EVERYONE --------------------------------\n"
     ]
    }
   ],
   "source": [
    "str2 = \" WELCOME EVERYONE \"\n",
    "str2 = str2.ljust(50,\"-\") # left align the string using a specific character\n",
    "print(str2)"
   ]
  },
  {
   "cell_type": "code",
   "execution_count": 27,
   "metadata": {},
   "outputs": [
    {
     "name": "stdout",
     "output_type": "stream",
     "text": [
      "              WELCOME EVERYONE -----------------------------------------------------------------------------------------------------------------------\n"
     ]
    }
   ],
   "source": [
    "str2 = \"              WELCOME EVERYONE \"\n",
    "str2 = str2.ljust(150,\"-\") # left align the string using a specific character\n",
    "print(str2)"
   ]
  },
  {
   "cell_type": "code",
   "execution_count": 28,
   "metadata": {},
   "outputs": [
    {
     "name": "stdout",
     "output_type": "stream",
     "text": [
      "              WELCOME EVERYONE                                                                                                                        \n"
     ]
    }
   ],
   "source": [
    "str2 = \"              WELCOME EVERYONE \"\n",
    "str2 = str2.ljust(150) # left align the string \n",
    "print(str2)"
   ]
  },
  {
   "cell_type": "markdown",
   "metadata": {},
   "source": [
    "## Python String find()\n",
    "method returns the lowest index or first occurrence of the \n",
    "substring if it is found in a given string."
   ]
  },
  {
   "cell_type": "code",
   "execution_count": 34,
   "metadata": {},
   "outputs": [
    {
     "name": "stdout",
     "output_type": "stream",
     "text": [
      "19\n"
     ]
    }
   ],
   "source": [
    "str4 = \"one two three four five six seven\"\n",
    "loc = str4.find(\"five\") # Find the location of word 'five' in the string \"str4\"\n",
    "print(loc)"
   ]
  },
  {
   "cell_type": "code",
   "execution_count": 43,
   "metadata": {},
   "outputs": [
    {
     "name": "stdout",
     "output_type": "stream",
     "text": [
      "18\n",
      "5\n",
      "8\n",
      "16\n",
      "0\n",
      "-1\n"
     ]
    }
   ],
   "source": [
    "str5= 'find me if you can'\n",
    "print(len(str5))\n",
    "print(str5.find('me'))\n",
    "print(str5.find('if'))\n",
    "print(str5.find('a'))\n",
    "print(str5.find('f'))\n",
    "print(str5.find('k'))"
   ]
  },
  {
   "cell_type": "code",
   "execution_count": 2,
   "metadata": {},
   "outputs": [
    {
     "name": "stdout",
     "output_type": "stream",
     "text": [
      "6\n"
     ]
    }
   ],
   "source": [
    "str5= 'findmeifyoucan'\n",
    "print(str5.find('if'))"
   ]
  },
  {
   "cell_type": "code",
   "execution_count": 40,
   "metadata": {},
   "outputs": [
    {
     "name": "stdout",
     "output_type": "stream",
     "text": [
      "8\n"
     ]
    }
   ],
   "source": [
    "str5= 'find me if you can'\n",
    "print(str5.index('if'))"
   ]
  },
  {
   "cell_type": "code",
   "execution_count": 44,
   "metadata": {},
   "outputs": [
    {
     "name": "stdout",
     "output_type": "stream",
     "text": [
      "7\n",
      "7\n",
      "-1\n"
     ]
    },
    {
     "ename": "ValueError",
     "evalue": "substring not found",
     "output_type": "error",
     "traceback": [
      "\u001b[1;31m---------------------------------------------------------------------------\u001b[0m",
      "\u001b[1;31mValueError\u001b[0m                                Traceback (most recent call last)",
      "\u001b[1;32m<ipython-input-44-6fd3a17c6308>\u001b[0m in \u001b[0;36m<module>\u001b[1;34m\u001b[0m\n\u001b[0;32m      5\u001b[0m \u001b[1;33m\u001b[0m\u001b[0m\n\u001b[0;32m      6\u001b[0m \u001b[0mprint\u001b[0m\u001b[1;33m(\u001b[0m\u001b[0mtext\u001b[0m\u001b[1;33m.\u001b[0m\u001b[0mfind\u001b[0m\u001b[1;33m(\u001b[0m\u001b[1;34m\"Python\"\u001b[0m\u001b[1;33m)\u001b[0m\u001b[1;33m)\u001b[0m  \u001b[1;31m# Output: -1\u001b[0m\u001b[1;33m\u001b[0m\u001b[1;33m\u001b[0m\u001b[0m\n\u001b[1;32m----> 7\u001b[1;33m \u001b[0mprint\u001b[0m\u001b[1;33m(\u001b[0m\u001b[0mtext\u001b[0m\u001b[1;33m.\u001b[0m\u001b[0mindex\u001b[0m\u001b[1;33m(\u001b[0m\u001b[1;34m\"Python\"\u001b[0m\u001b[1;33m)\u001b[0m\u001b[1;33m)\u001b[0m \u001b[1;31m# Raises ValueError\u001b[0m\u001b[1;33m\u001b[0m\u001b[1;33m\u001b[0m\u001b[0m\n\u001b[0m",
      "\u001b[1;31mValueError\u001b[0m: substring not found"
     ]
    }
   ],
   "source": [
    "text = \"Hello, world!\"\n",
    "\n",
    "print(text.find(\"world\"))   # Output: 7\n",
    "print(text.index(\"world\"))  # Output: 7\n",
    "\n",
    "print(text.find(\"Python\"))  # Output: -1\n",
    "print(text.index(\"Python\")) # Raises ValueError"
   ]
  },
  {
   "cell_type": "markdown",
   "metadata": {},
   "source": [
    "## \n",
    "isdecimal() method supports only Decimal Numbers.\n",
    "isdigit() method supports Decimals, Subscripts, Superscripts.\n",
    "isnumeric() method supports Digits, Vulgar Fractions, Subscripts, Superscripts, Roman Numerals, Currency Numerators."
   ]
  },
  {
   "cell_type": "code",
   "execution_count": 47,
   "metadata": {},
   "outputs": [
    {
     "name": "stdout",
     "output_type": "stream",
     "text": [
      "False\n",
      "True\n",
      "True\n",
      "True\n",
      "True\n"
     ]
    }
   ],
   "source": [
    "mystr6 = '123456789'\n",
    "print(mystr6.isalpha()) # returns True if all the characters in the text are letters\n",
    "print(mystr6.isalnum()) # returns True if a string contains only letters or numbers (alphanumeric)\n",
    "print(mystr6.isdecimal()) # returns True if all the characters are decimals (0-9)\n",
    "print(mystr6.isnumeric()) # returns True if all the characters are numeric (0-9)\n",
    "print(mystr6.isdigit())"
   ]
  },
  {
   "cell_type": "code",
   "execution_count": 48,
   "metadata": {},
   "outputs": [
    {
     "name": "stdout",
     "output_type": "stream",
     "text": [
      "True\n",
      "True\n",
      "False\n",
      "False\n",
      "False\n"
     ]
    }
   ],
   "source": [
    "mystr6 = 'abcde'\n",
    "print(mystr6.isalpha()) \n",
    "print(mystr6.isalnum()) \n",
    "print(mystr6.isdecimal()) \n",
    "print(mystr6.isnumeric()) \n",
    "print(mystr6.isdigit())"
   ]
  },
  {
   "cell_type": "code",
   "execution_count": 49,
   "metadata": {},
   "outputs": [
    {
     "name": "stdout",
     "output_type": "stream",
     "text": [
      "False\n",
      "True\n",
      "False\n",
      "False\n",
      "False\n"
     ]
    }
   ],
   "source": [
    "mystr6 = 'abcde123'\n",
    "print(mystr6.isalpha()) \n",
    "print(mystr6.isalnum()) \n",
    "print(mystr6.isdecimal()) \n",
    "print(mystr6.isnumeric()) \n",
    "print(mystr6.isdigit())"
   ]
  },
  {
   "cell_type": "code",
   "execution_count": 51,
   "metadata": {},
   "outputs": [
    {
     "data": {
      "text/plain": [
       "False"
      ]
     },
     "execution_count": 51,
     "metadata": {},
     "output_type": "execute_result"
    }
   ],
   "source": [
    "str1=' 110'.isdigit() #if a string has a space\n",
    "str1"
   ]
  },
  {
   "cell_type": "code",
   "execution_count": 52,
   "metadata": {},
   "outputs": [
    {
     "data": {
      "text/plain": [
       "False"
      ]
     },
     "execution_count": 52,
     "metadata": {},
     "output_type": "execute_result"
    }
   ],
   "source": [
    "str1=' 11.0'.isdigit()\n",
    "str1"
   ]
  },
  {
   "cell_type": "code",
   "execution_count": 57,
   "metadata": {},
   "outputs": [
    {
     "name": "stdout",
     "output_type": "stream",
     "text": [
      "Enter a number:5\n",
      "True\n",
      "True\n"
     ]
    }
   ],
   "source": [
    "a=input(\"Enter a number:\" ) #check introducing a space while inputting also\n",
    "print(a.isdigit())\n",
    "print(a.strip().isdigit())"
   ]
  },
  {
   "cell_type": "code",
   "execution_count": 58,
   "metadata": {},
   "outputs": [
    {
     "name": "stdout",
     "output_type": "stream",
     "text": [
      "True\n",
      "False\n"
     ]
    }
   ],
   "source": [
    "mystr7 = 'ABCDEF'\n",
    "print(mystr7.isupper()) # Returns True if all the characters are in upper case\n",
    "print(mystr7.islower()) # Returns True if all the characters are in lower case"
   ]
  },
  {
   "cell_type": "code",
   "execution_count": 4,
   "metadata": {},
   "outputs": [
    {
     "name": "stdout",
     "output_type": "stream",
     "text": [
      "False\n",
      "False\n"
     ]
    }
   ],
   "source": [
    "mystr8 = 'Abcdef'\n",
    "print(mystr8.isupper()) # Returns True if all the characters are in upper case\n",
    "print(mystr8.islower()) # Returns True if all the characters are in lower case\n"
   ]
  },
  {
   "cell_type": "code",
   "execution_count": 59,
   "metadata": {},
   "outputs": [
    {
     "name": "stdout",
     "output_type": "stream",
     "text": [
      "True\n"
     ]
    }
   ],
   "source": [
    "mystr8 = 'abcdef'\n",
    "print(mystr8.upper().isupper())"
   ]
  },
  {
   "cell_type": "code",
   "execution_count": 69,
   "metadata": {},
   "outputs": [
    {
     "name": "stdout",
     "output_type": "stream",
     "text": [
      "True\n"
     ]
    }
   ],
   "source": [
    "mystr8 = 'ABCDEF'\n",
    "print(mystr8.lower().islower())"
   ]
  },
  {
   "cell_type": "code",
   "execution_count": 61,
   "metadata": {},
   "outputs": [
    {
     "name": "stdout",
     "output_type": "stream",
     "text": [
      "51\n"
     ]
    }
   ],
   "source": [
    "str6 = \"one two three four one two two three five five six one ten eight ten nine\"\n",
    "loc = str6.rfind(\"one\") # last occurrence of word 'one' in string \"str6\"\n",
    "print(loc)\n"
   ]
  },
  {
   "cell_type": "code",
   "execution_count": 62,
   "metadata": {},
   "outputs": [
    {
     "name": "stdout",
     "output_type": "stream",
     "text": [
      "51\n"
     ]
    }
   ],
   "source": [
    "loc = str6.rindex(\"one\") # last occurrence of word 'one' in string \"str6\"\n",
    "print(loc)\n"
   ]
  },
  {
   "cell_type": "code",
   "execution_count": 63,
   "metadata": {},
   "outputs": [
    {
     "name": "stdout",
     "output_type": "stream",
     "text": [
      "65\n"
     ]
    }
   ],
   "source": [
    "loc = str6.rindex(\"ten\") # last occurrence of word 'one' in string \"str6\"\n",
    "print(loc)\n"
   ]
  },
  {
   "cell_type": "code",
   "execution_count": 65,
   "metadata": {},
   "outputs": [
    {
     "data": {
      "text/plain": [
       "' abc def ghi'"
      ]
     },
     "execution_count": 65,
     "metadata": {},
     "output_type": "execute_result"
    }
   ],
   "source": [
    "txt = \" abc def ghi  \"\n",
    "txt.rstrip()\n"
   ]
  },
  {
   "cell_type": "code",
   "execution_count": 9,
   "metadata": {},
   "outputs": [
    {
     "name": "stdout",
     "output_type": "stream",
     "text": [
      "original:  abc def ghi  \n"
     ]
    },
    {
     "data": {
      "text/plain": [
       "' abc def ghi'"
      ]
     },
     "execution_count": 9,
     "metadata": {},
     "output_type": "execute_result"
    }
   ],
   "source": [
    "txt = \" abc def ghi  \"\n",
    "a=txt.rstrip()\n",
    "print('original:',txt)\n",
    "a"
   ]
  },
  {
   "cell_type": "code",
   "execution_count": 67,
   "metadata": {},
   "outputs": [
    {
     "data": {
      "text/plain": [
       "'abc def ghi   '"
      ]
     },
     "execution_count": 67,
     "metadata": {},
     "output_type": "execute_result"
    }
   ],
   "source": [
    "txt = \"  abc def ghi   \"\n",
    "txt.lstrip()"
   ]
  },
  {
   "cell_type": "code",
   "execution_count": 10,
   "metadata": {},
   "outputs": [
    {
     "name": "stdout",
     "output_type": "stream",
     "text": [
      "original:   abc def ghi   \n"
     ]
    },
    {
     "data": {
      "text/plain": [
       "'abc def ghi   '"
      ]
     },
     "execution_count": 10,
     "metadata": {},
     "output_type": "execute_result"
    }
   ],
   "source": [
    "txt = \"  abc def ghi   \"\n",
    "a=txt.lstrip()\n",
    "print('original:',txt)\n",
    "a"
   ]
  },
  {
   "cell_type": "code",
   "execution_count": 11,
   "metadata": {},
   "outputs": [
    {
     "name": "stdout",
     "output_type": "stream",
     "text": [
      "original:   abc def ghi   \n"
     ]
    },
    {
     "data": {
      "text/plain": [
       "'abc def ghi'"
      ]
     },
     "execution_count": 11,
     "metadata": {},
     "output_type": "execute_result"
    }
   ],
   "source": [
    "txt = \"  abc def ghi   \"\n",
    "a=txt.strip()\n",
    "print('original:',txt)\n",
    "a"
   ]
  },
  {
   "cell_type": "code",
   "execution_count": 15,
   "metadata": {},
   "outputs": [
    {
     "name": "stdout",
     "output_type": "stream",
     "text": [
      "original: &#abc def ghi+++\n"
     ]
    },
    {
     "data": {
      "text/plain": [
       "'abc def ghi+++'"
      ]
     },
     "execution_count": 15,
     "metadata": {},
     "output_type": "execute_result"
    }
   ],
   "source": [
    "txt = \"&#abc def ghi+++\"\n",
    "a=txt.lstrip(\"&#\")\n",
    "print('original:',txt)\n",
    "a"
   ]
  },
  {
   "cell_type": "code",
   "execution_count": 16,
   "metadata": {},
   "outputs": [
    {
     "name": "stdout",
     "output_type": "stream",
     "text": [
      "original: &#abc def ghi+++\n"
     ]
    },
    {
     "data": {
      "text/plain": [
       "'&#abc def ghi'"
      ]
     },
     "execution_count": 16,
     "metadata": {},
     "output_type": "execute_result"
    }
   ],
   "source": [
    "txt = \"&#abc def ghi+++\"\n",
    "a=txt.rstrip(\"+\")\n",
    "print('original:',txt)\n",
    "a"
   ]
  },
  {
   "cell_type": "code",
   "execution_count": 1,
   "metadata": {},
   "outputs": [
    {
     "name": "stdout",
     "output_type": "stream",
     "text": [
      "original: &#abc def ghi+++&&\n"
     ]
    },
    {
     "data": {
      "text/plain": [
       "'&#abc def ghi+++&&'"
      ]
     },
     "execution_count": 1,
     "metadata": {},
     "output_type": "execute_result"
    }
   ],
   "source": [
    "txt = \"&#abc def ghi+++&&\"\n",
    "a=txt.rstrip(\"+\")\n",
    "print('original:',txt)\n",
    "a"
   ]
  },
  {
   "cell_type": "code",
   "execution_count": 2,
   "metadata": {},
   "outputs": [
    {
     "name": "stdout",
     "output_type": "stream",
     "text": [
      "original: &#abc def ghi+++&&\n"
     ]
    },
    {
     "data": {
      "text/plain": [
       "'&#abc def ghi+++'"
      ]
     },
     "execution_count": 2,
     "metadata": {},
     "output_type": "execute_result"
    }
   ],
   "source": [
    "txt = \"&#abc def ghi+++&&\"\n",
    "a=txt.rstrip(\"&\")\n",
    "print('original:',txt)\n",
    "a"
   ]
  },
  {
   "cell_type": "code",
   "execution_count": 3,
   "metadata": {},
   "outputs": [
    {
     "name": "stdout",
     "output_type": "stream",
     "text": [
      "original: &#abc def ghi+++&&\n"
     ]
    },
    {
     "data": {
      "text/plain": [
       "'&#abc def ghi'"
      ]
     },
     "execution_count": 3,
     "metadata": {},
     "output_type": "execute_result"
    }
   ],
   "source": [
    "txt = \"&#abc def ghi+++&&\"\n",
    "a=txt.rstrip(\"+&\")\n",
    "print('original:',txt)\n",
    "a"
   ]
  },
  {
   "cell_type": "code",
   "execution_count": 5,
   "metadata": {},
   "outputs": [
    {
     "name": "stdout",
     "output_type": "stream",
     "text": [
      "original: &#abc def ghi+++&&\n"
     ]
    },
    {
     "data": {
      "text/plain": [
       "'&#abc def ghi+++&&'"
      ]
     },
     "execution_count": 5,
     "metadata": {},
     "output_type": "execute_result"
    }
   ],
   "source": [
    "txt = \"&#abc def ghi+++&&\"\n",
    "a=txt.rstrip(\"ghi\")\n",
    "print('original:',txt)\n",
    "a"
   ]
  },
  {
   "cell_type": "markdown",
   "metadata": {},
   "source": [
    "## replace()"
   ]
  },
  {
   "cell_type": "code",
   "execution_count": 1,
   "metadata": {},
   "outputs": [
    {
     "data": {
      "text/plain": [
       "'Hi, fine'"
      ]
     },
     "execution_count": 1,
     "metadata": {},
     "output_type": "execute_result"
    }
   ],
   "source": [
    "str2='Hi, fine'\n",
    "str2.replace('fine','hine')\n",
    "str2  #original string is not replaced\n"
   ]
  },
  {
   "cell_type": "code",
   "execution_count": 2,
   "metadata": {},
   "outputs": [
    {
     "data": {
      "text/plain": [
       "'Hi, hine'"
      ]
     },
     "execution_count": 2,
     "metadata": {},
     "output_type": "execute_result"
    }
   ],
   "source": [
    "str2='Hi, fine'\n",
    "x=str2.replace('fine','hine')\n",
    "x"
   ]
  },
  {
   "cell_type": "code",
   "execution_count": 3,
   "metadata": {},
   "outputs": [
    {
     "data": {
      "text/plain": [
       "'Hello, fine'"
      ]
     },
     "execution_count": 3,
     "metadata": {},
     "output_type": "execute_result"
    }
   ],
   "source": [
    "str2='Hi, fine'\n",
    "x=str2.replace('Hi','Hello')\n",
    "x"
   ]
  },
  {
   "cell_type": "markdown",
   "metadata": {},
   "source": [
    "## title(),swapcase(),istitle()\n",
    "title() method returns a new string after converting the first letter \n",
    "of every word to uppercase(capital) and keeping the rest of the letters lowercase.\n",
    "\n",
    "string.title()\n",
    "Parameters\n",
    "title() doesn’t accept any parameter.\n",
    "\n",
    "swapcase():\n",
    "string.swapcase()\n",
    "The swapcase() method does not take any parameter.\n"
   ]
  },
  {
   "cell_type": "code",
   "execution_count": 5,
   "metadata": {},
   "outputs": [
    {
     "name": "stdout",
     "output_type": "stream",
     "text": [
      "honesty is the best policy\n",
      "Honesty Is The Best Policy\n"
     ]
    }
   ],
   "source": [
    "x='honesty is the best policy'\n",
    "y=x.title()\n",
    "print(x)\n",
    "print(y)"
   ]
  },
  {
   "cell_type": "code",
   "execution_count": 10,
   "metadata": {},
   "outputs": [
    {
     "name": "stdout",
     "output_type": "stream",
     "text": [
      "Expected: He's Smarter &stronger \n",
      " Actual: He'S Smarter &Stronger.\n"
     ]
    }
   ],
   "source": [
    "# title() method considers any non-alphabet as a word boundary\n",
    "x = \"He's smarter &stronger.\"\n",
    "expected_string = \"He's Smarter &stronger\"\n",
    "# after ‘(apostrophe) and & string title() method considers the start of a new word\n",
    "print(\"Expected:\", expected_string, \"\\n Actual:\", x.title())\n"
   ]
  },
  {
   "cell_type": "code",
   "execution_count": 12,
   "metadata": {},
   "outputs": [
    {
     "name": "stdout",
     "output_type": "stream",
     "text": [
      "hello-how-are-you\n",
      "Hello-How-Are-You\n"
     ]
    }
   ],
   "source": [
    "x=\"hello-how-are-you\"\n",
    "y=x.title()\n",
    "print(x)\n",
    "print(y)"
   ]
  },
  {
   "cell_type": "code",
   "execution_count": 13,
   "metadata": {},
   "outputs": [
    {
     "data": {
      "text/plain": [
       "'Hai 4G#H%S /C\\\\D=E'"
      ]
     },
     "execution_count": 13,
     "metadata": {},
     "output_type": "execute_result"
    }
   ],
   "source": [
    "x=\"hai 4g#h%s /c\\d=e\"\n",
    "x.title()\n",
    "#In output \\\\D to show that it's part of the string rather than an escape sequence."
   ]
  },
  {
   "cell_type": "code",
   "execution_count": 77,
   "metadata": {},
   "outputs": [
    {
     "name": "stdout",
     "output_type": "stream",
     "text": [
      "Hello-How-Are-You\n",
      "True\n",
      "False\n"
     ]
    }
   ],
   "source": [
    "x=\"hello-how-are-you\"\n",
    "y=x.title()\n",
    "print(y)\n",
    "print(y.istitle())\n",
    "print(x.istitle())"
   ]
  },
  {
   "cell_type": "code",
   "execution_count": 6,
   "metadata": {},
   "outputs": [
    {
     "name": "stdout",
     "output_type": "stream",
     "text": [
      "honESTY is THE best policy\n",
      "HONesty IS the BEST POLICY\n"
     ]
    }
   ],
   "source": [
    "x='honESTY is THE best policy'\n",
    "y=x.swapcase()\n",
    "print(x)\n",
    "print(y)"
   ]
  },
  {
   "cell_type": "code",
   "execution_count": 14,
   "metadata": {},
   "outputs": [
    {
     "name": "stdout",
     "output_type": "stream",
     "text": [
      "He's smarter &stronger.\n",
      "hE'S SMARTER &STRONGER.\n"
     ]
    }
   ],
   "source": [
    "x = \"He's smarter &stronger.\"\n",
    "y=x.swapcase()\n",
    "print(x)\n",
    "print(y)"
   ]
  },
  {
   "cell_type": "code",
   "execution_count": 15,
   "metadata": {},
   "outputs": [
    {
     "name": "stdout",
     "output_type": "stream",
     "text": [
      "hai 4g#h%s /c\\d=e\n",
      "HAI 4G#H%S /C\\D=E\n"
     ]
    }
   ],
   "source": [
    "x = \"hai 4g#h%s /c\\d=e\"\n",
    "y=x.swapcase()\n",
    "print(x)\n",
    "print(y)"
   ]
  },
  {
   "cell_type": "markdown",
   "metadata": {},
   "source": [
    "## capitalize() \n",
    "method returns a copy of the original string and \n",
    "converts the first character of the string to a capital (uppercase) letter\n",
    "while making all other characters in the string lowercase letters.\n"
   ]
  },
  {
   "cell_type": "code",
   "execution_count": 46,
   "metadata": {},
   "outputs": [
    {
     "name": "stdout",
     "output_type": "stream",
     "text": [
      "welcome to the city\n",
      "Welcome to the city\n"
     ]
    }
   ],
   "source": [
    "x=\"welcome to the city\"\n",
    "y=x.capitalize()\n",
    "print(x)\n",
    "print(y)"
   ]
  },
  {
   "cell_type": "code",
   "execution_count": 47,
   "metadata": {},
   "outputs": [
    {
     "name": "stdout",
     "output_type": "stream",
     "text": [
      "$welcome to the city\n",
      "$welcome to the city\n"
     ]
    }
   ],
   "source": [
    "x=\"$welcome to the city\"\n",
    "y=x.capitalize()\n",
    "print(x)\n",
    "print(y)"
   ]
  },
  {
   "cell_type": "code",
   "execution_count": 48,
   "metadata": {},
   "outputs": [
    {
     "name": "stdout",
     "output_type": "stream",
     "text": [
      "\n",
      "welcome to the city\n",
      "\n",
      "welcome to the city\n"
     ]
    }
   ],
   "source": [
    "x=\"\\nwelcome to the city\"\n",
    "y=x.capitalize()\n",
    "print(x)\n",
    "print(y)"
   ]
  },
  {
   "cell_type": "code",
   "execution_count": 49,
   "metadata": {},
   "outputs": [
    {
     "name": "stdout",
     "output_type": "stream",
     "text": [
      "&welcome to the city\n",
      "&welcome to the city\n"
     ]
    }
   ],
   "source": [
    "x=\"&welcome to the city\"\n",
    "y=x.capitalize()\n",
    "print(x)\n",
    "print(y)"
   ]
  },
  {
   "cell_type": "code",
   "execution_count": 50,
   "metadata": {},
   "outputs": [
    {
     "name": "stdout",
     "output_type": "stream",
     "text": [
      "+welcome to the city\n",
      "+welcome to the city\n"
     ]
    }
   ],
   "source": [
    "x=\"+welcome to the city\"\n",
    "y=x.capitalize()\n",
    "print(x)\n",
    "print(y)"
   ]
  },
  {
   "cell_type": "markdown",
   "metadata": {},
   "source": [
    "## zfill() method \n",
    "returns a copy of the string with ‘0’ characters padded to the left side of the given string.\n",
    "\n",
    "Syntax: str.zfill(length)\n",
    "\n",
    "\n",
    "Parameters:  length: length is the length of the returned string from zfill() with ‘0’ digits filled to the leftside. \n",
    "\n",
    "\n",
    "Return:  Returns a copy of the string with ‘0’ characters padded to the left side of the given string."
   ]
  },
  {
   "cell_type": "code",
   "execution_count": 16,
   "metadata": {},
   "outputs": [
    {
     "name": "stdout",
     "output_type": "stream",
     "text": [
      "24\n",
      "000000Welcome to the new world\n"
     ]
    }
   ],
   "source": [
    "x=\"Welcome to the new world\"\n",
    "print(len(x))\n",
    "print(x.zfill(30))"
   ]
  },
  {
   "cell_type": "code",
   "execution_count": 23,
   "metadata": {},
   "outputs": [
    {
     "name": "stdout",
     "output_type": "stream",
     "text": [
      "00006041\n",
      "+0006041\n",
      "-0006041\n",
      "000*6041\n",
      "000/6041\n",
      "000&6041\n",
      "19\n",
      "-000000-anything%(&%(%)*^\n"
     ]
    }
   ],
   "source": [
    "#only + and - will change the output\n",
    "\n",
    "number = \"6041\"\n",
    "print(number.zfill(8)) \n",
    "\n",
    "number = \"+6041\"\n",
    "print(number.zfill(8)) \n",
    "\n",
    "number = \"-6041\"\n",
    "print(number.zfill(8)) \n",
    "\n",
    "number = \"*6041\"\n",
    "print(number.zfill(8)) \n",
    "\n",
    "number = \"/6041\"\n",
    "print(number.zfill(8)) \n",
    "\n",
    "number = \"&6041\"\n",
    "print(number.zfill(8)) \n",
    "\n",
    "text = \"--anything%(&%(%)*^\"\n",
    "print(len(text))\n",
    "print(text.zfill(25))\n"
   ]
  },
  {
   "cell_type": "markdown",
   "metadata": {},
   "source": [
    "## if not\n",
    "if not in string values in Python is a common and efficient way to check for empty strings. "
   ]
  },
  {
   "cell_type": "code",
   "execution_count": 28,
   "metadata": {},
   "outputs": [
    {
     "name": "stdout",
     "output_type": "stream",
     "text": [
      "Empty string\n"
     ]
    }
   ],
   "source": [
    "str1=\"\"\n",
    "if not str1:\n",
    "    print(\"Empty string\")\n"
   ]
  },
  {
   "cell_type": "code",
   "execution_count": 29,
   "metadata": {},
   "outputs": [
    {
     "name": "stdout",
     "output_type": "stream",
     "text": [
      "string is available\n"
     ]
    }
   ],
   "source": [
    "str1=\"hello, hai\"\n",
    "if str1:\n",
    "    print(\"string is available\")\n"
   ]
  },
  {
   "cell_type": "markdown",
   "metadata": {},
   "source": [
    "## isprintable() \n",
    "method returns “True” if all characters in the string are printable or the string is empty, Otherwise, It returns “False”. This function is used to check if the argument contains any printable characters such as:\n",
    "\n",
    "Digits ( 0123456789 )\n",
    "Uppercase letters ( ABCDEFGHIJKLMNOPQRSTUVWXYZ )\n",
    "Lowercase letters ( abcdefghijklmnopqrstuvwxyz )\n",
    "Punctuation characters ( !”#$%&'()*+, -./:;?@[\\]^_`{ | }~ )\n",
    "Space ( )\n",
    "\n",
    "Syntax: \n",
    "\n",
    "string.isprintable()\n",
    "\n",
    "Parameters:\n",
    "\n",
    "isprintable() does not take any parameters"
   ]
  },
  {
   "cell_type": "code",
   "execution_count": 31,
   "metadata": {},
   "outputs": [
    {
     "name": "stdout",
     "output_type": "stream",
     "text": [
      "True\n"
     ]
    }
   ],
   "source": [
    "str1=\"Hi\"\n",
    "print(str1.isprintable())"
   ]
  },
  {
   "cell_type": "code",
   "execution_count": 32,
   "metadata": {},
   "outputs": [
    {
     "name": "stdout",
     "output_type": "stream",
     "text": [
      "True\n"
     ]
    }
   ],
   "source": [
    "str1=\"\"\n",
    "print(str1.isprintable())"
   ]
  },
  {
   "cell_type": "code",
   "execution_count": 33,
   "metadata": {},
   "outputs": [
    {
     "name": "stdout",
     "output_type": "stream",
     "text": [
      "True\n"
     ]
    }
   ],
   "source": [
    "str1=\"   \"\n",
    "print(str1.isprintable())"
   ]
  },
  {
   "cell_type": "code",
   "execution_count": 34,
   "metadata": {},
   "outputs": [
    {
     "name": "stdout",
     "output_type": "stream",
     "text": [
      "False\n"
     ]
    }
   ],
   "source": [
    "str1=\"\\n\\t\\f\"\n",
    "print(str1.isprintable())"
   ]
  },
  {
   "cell_type": "code",
   "execution_count": 35,
   "metadata": {},
   "outputs": [
    {
     "name": "stdout",
     "output_type": "stream",
     "text": [
      "False\n"
     ]
    }
   ],
   "source": [
    "str1=\"Hello \\n hi\"\n",
    "print(str1.isprintable())"
   ]
  },
  {
   "cell_type": "code",
   "execution_count": 39,
   "metadata": {},
   "outputs": [
    {
     "name": "stdout",
     "output_type": "stream",
     "text": [
      "True\n"
     ]
    }
   ],
   "source": [
    "txt = \"Hello! Are you #1?\"\n",
    "\n",
    "x = txt.isprintable()\n",
    "\n",
    "print(x)"
   ]
  },
  {
   "cell_type": "markdown",
   "metadata": {},
   "source": [
    "## count the non-printable characters in a string\n",
    "str1=\"Hello\\nhii\\tcall\\nname\"\n"
   ]
  },
  {
   "cell_type": "code",
   "execution_count": 38,
   "metadata": {},
   "outputs": [
    {
     "name": "stdout",
     "output_type": "stream",
     "text": [
      "3\n",
      "Hello hii call name\n"
     ]
    }
   ],
   "source": [
    "str1=\"Hello\\nhii\\tcall\\nname\"\n",
    "newstring=\"\"\n",
    "count=0\n",
    "for a in str1: \n",
    "    if (a.isprintable()) == False: \n",
    "            count+= 1\n",
    "            newstring+=' '\n",
    "    else: \n",
    "            newstring+= a \n",
    "print(count) \n",
    "print(newstring)"
   ]
  },
  {
   "cell_type": "markdown",
   "metadata": {},
   "source": [
    "## isspace() \n",
    "    method returns “True” if all characters in the string are whitespace characters, Otherwise, It returns “False”. This function is used to check if the argument contains all whitespace characters, such as:\n",
    "\n",
    "‘ ‘ – Space\n",
    "‘\\t’ – Horizontal tab\n",
    "‘\\n’ – Newline\n",
    "‘\\v’ – Vertical tab\n",
    "‘\\f’ – Feed\n",
    "‘\\r’ – Carriage return\n",
    "\n",
    "Syntax: string.isspace()"
   ]
  },
  {
   "cell_type": "code",
   "execution_count": 40,
   "metadata": {},
   "outputs": [
    {
     "name": "stdout",
     "output_type": "stream",
     "text": [
      "False\n"
     ]
    }
   ],
   "source": [
    "str1=\"Hello\"\n",
    "print(str1.isspace())"
   ]
  },
  {
   "cell_type": "code",
   "execution_count": 41,
   "metadata": {},
   "outputs": [
    {
     "name": "stdout",
     "output_type": "stream",
     "text": [
      "False\n"
     ]
    }
   ],
   "source": [
    "str1=\"\"\n",
    "print(str1.isspace())"
   ]
  },
  {
   "cell_type": "code",
   "execution_count": 42,
   "metadata": {},
   "outputs": [
    {
     "name": "stdout",
     "output_type": "stream",
     "text": [
      "True\n"
     ]
    }
   ],
   "source": [
    "str1=\"   \"\n",
    "print(str1.isspace())"
   ]
  },
  {
   "cell_type": "code",
   "execution_count": 43,
   "metadata": {},
   "outputs": [
    {
     "name": "stdout",
     "output_type": "stream",
     "text": [
      "False\n"
     ]
    }
   ],
   "source": [
    "str1=\"Hello\\n\"\n",
    "print(str1.isspace())"
   ]
  },
  {
   "cell_type": "code",
   "execution_count": 44,
   "metadata": {},
   "outputs": [
    {
     "name": "stdout",
     "output_type": "stream",
     "text": [
      "False\n"
     ]
    }
   ],
   "source": [
    "str1=\"\\nHello\"\n",
    "print(str1.isspace())"
   ]
  },
  {
   "cell_type": "code",
   "execution_count": 45,
   "metadata": {},
   "outputs": [
    {
     "name": "stdout",
     "output_type": "stream",
     "text": [
      "True\n"
     ]
    }
   ],
   "source": [
    "str1=\"\\n\\f\"\n",
    "print(str1.isspace())"
   ]
  },
  {
   "cell_type": "code",
   "execution_count": 51,
   "metadata": {},
   "outputs": [
    {
     "name": "stdout",
     "output_type": "stream",
     "text": [
      "False\n"
     ]
    }
   ],
   "source": [
    "str1=\"Hello Hi\"\n",
    "print(str1.isspace())"
   ]
  },
  {
   "cell_type": "markdown",
   "metadata": {},
   "source": [
    "## join() \n",
    "is an inbuilt string function used to join elements of a sequence\n",
    "separated by a string separator.\n",
    "This function joins elements of a sequence and makes it a string.\n",
    "\n",
    "string.join(iterable)\n",
    "\n",
    "Iterable – objects capable of returning their members one at a time. Some examples are List, Tuple, String, Dictionary, and Set\n",
    "\n",
    "Return Value: The join() method returns a string concatenated with the elements of iterable.\n",
    "\n",
    "\n",
    "Type Error: If the iterable contains any non-string values, it raises a TypeError exception."
   ]
  },
  {
   "cell_type": "code",
   "execution_count": 52,
   "metadata": {},
   "outputs": [
    {
     "name": "stdout",
     "output_type": "stream",
     "text": [
      "H&e&l&l&o\n"
     ]
    }
   ],
   "source": [
    "str1=\"Hello\"\n",
    "print(\"&\".join(str1))"
   ]
  },
  {
   "cell_type": "code",
   "execution_count": 55,
   "metadata": {},
   "outputs": [
    {
     "name": "stdout",
     "output_type": "stream",
     "text": [
      "hello\n",
      "h+e+l+l+o\n"
     ]
    }
   ],
   "source": [
    "str1='hello'\n",
    "x='+'.join(str1)\n",
    "print(str1)\n",
    "print(x)"
   ]
  },
  {
   "cell_type": "code",
   "execution_count": 56,
   "metadata": {},
   "outputs": [
    {
     "name": "stdout",
     "output_type": "stream",
     "text": [
      "Hello\n"
     ]
    }
   ],
   "source": [
    "str1=\"Hello\"\n",
    "print(\"\".join(str1))"
   ]
  },
  {
   "cell_type": "code",
   "execution_count": 57,
   "metadata": {},
   "outputs": [
    {
     "name": "stdout",
     "output_type": "stream",
     "text": [
      "H e l l o\n"
     ]
    }
   ],
   "source": [
    "str1=\"Hello\"\n",
    "print(\" \".join(str1))"
   ]
  },
  {
   "cell_type": "code",
   "execution_count": 58,
   "metadata": {},
   "outputs": [
    {
     "name": "stdout",
     "output_type": "stream",
     "text": [
      "hi#come#root\n"
     ]
    }
   ],
   "source": [
    "l1=['hi','come','root'] #for a list\n",
    "print('#'.join(l1))"
   ]
  },
  {
   "cell_type": "code",
   "execution_count": 59,
   "metadata": {},
   "outputs": [
    {
     "ename": "TypeError",
     "evalue": "sequence item 1: expected str instance, int found",
     "output_type": "error",
     "traceback": [
      "\u001b[1;31m---------------------------------------------------------------------------\u001b[0m",
      "\u001b[1;31mTypeError\u001b[0m                                 Traceback (most recent call last)",
      "\u001b[1;32m<ipython-input-59-97860bc5952f>\u001b[0m in \u001b[0;36m<module>\u001b[1;34m\u001b[0m\n\u001b[0;32m      1\u001b[0m \u001b[0ml1\u001b[0m\u001b[1;33m=\u001b[0m\u001b[1;33m[\u001b[0m\u001b[1;34m'hi'\u001b[0m\u001b[1;33m,\u001b[0m\u001b[1;36m1\u001b[0m\u001b[1;33m,\u001b[0m\u001b[1;34m'root'\u001b[0m\u001b[1;33m]\u001b[0m\u001b[1;33m\u001b[0m\u001b[1;33m\u001b[0m\u001b[0m\n\u001b[1;32m----> 2\u001b[1;33m \u001b[0mprint\u001b[0m\u001b[1;33m(\u001b[0m\u001b[1;34m'#'\u001b[0m\u001b[1;33m.\u001b[0m\u001b[0mjoin\u001b[0m\u001b[1;33m(\u001b[0m\u001b[0ml1\u001b[0m\u001b[1;33m)\u001b[0m\u001b[1;33m)\u001b[0m\u001b[1;33m\u001b[0m\u001b[1;33m\u001b[0m\u001b[0m\n\u001b[0m",
      "\u001b[1;31mTypeError\u001b[0m: sequence item 1: expected str instance, int found"
     ]
    }
   ],
   "source": [
    "l1=['hi',1,'root']\n",
    "print('#'.join(l1))"
   ]
  },
  {
   "cell_type": "code",
   "execution_count": 60,
   "metadata": {},
   "outputs": [
    {
     "name": "stdout",
     "output_type": "stream",
     "text": [
      "hi#come#root\n"
     ]
    }
   ],
   "source": [
    "t1=('hi','come','root') #for a tuple\n",
    "print('#'.join(t1))"
   ]
  },
  {
   "cell_type": "code",
   "execution_count": 65,
   "metadata": {},
   "outputs": [
    {
     "name": "stdout",
     "output_type": "stream",
     "text": [
      "a, b, c\n"
     ]
    }
   ],
   "source": [
    "d1={'a':'hi','b':'hello','c':'well'}\n",
    "print(', '.join(d1))"
   ]
  },
  {
   "cell_type": "code",
   "execution_count": 66,
   "metadata": {},
   "outputs": [
    {
     "name": "stdout",
     "output_type": "stream",
     "text": [
      "hi+root+come\n"
     ]
    }
   ],
   "source": [
    "s1={'hi','come','root'} #for a set\n",
    "print('+'.join(s1))"
   ]
  },
  {
   "cell_type": "markdown",
   "metadata": {},
   "source": [
    "## splitlines() \n",
    "method is used to split the lines at line boundaries.\n",
    "The function returns a list of lines in the string, including the line break(optional).\n",
    "\n",
    "string.splitlines([keepends])\n",
    "\n",
    "\\keepends (optional): When set to True line breaks are included in the resulting list. This can be a number, specifying the position of line break or, can be any Unicode characters, like “\\n”, “\\r”, “\\r\\n”, etc as boundaries for strings.\n",
    "\n",
    "splitlines() splits on the following line boundaries:\n",
    "\n",
    "Representation\n",
    "\n",
    "Description\n",
    "\n",
    "\\n\tLine Feed\n",
    "\\r\tCarriage Return\n",
    "\\r\\n\tCarriage Return + Line Feed\n",
    "\\x1c\tFile Separator\n",
    "\\x1d\tGroup Separator\n",
    "\\x1e\tRecord Separator\n",
    "\\x85\tNext Line (C1 Control Code)\n",
    "\\v or \\x0b\tLine Tabulation\n",
    "\\f or \\x0c\tForm Feed\n",
    "\\u2028\tLine Separator\n",
    "\\u2029\tParagraph Separator"
   ]
  },
  {
   "cell_type": "code",
   "execution_count": 2,
   "metadata": {},
   "outputs": [
    {
     "name": "stdout",
     "output_type": "stream",
     "text": [
      "['Welcome everyone to', 'the beautiful ', ' world']\n",
      "['Welcome everyone to', 'the beautiful ', ' world']\n",
      "['Welcome everyone to\\r', 'the beautiful \\x1c', ' world']\n"
     ]
    }
   ],
   "source": [
    "# Python code to illustrate splitlines() \n",
    "string = \"Welcome everyone to\\rthe beautiful \\x1c world\"\n",
    "\n",
    "# No parameters has been passed \n",
    "print (string.splitlines( )) \n",
    "\n",
    "# A specified number is passed \n",
    "print (string.splitlines(0))  \n",
    "'''When you pass 0 as an argument to splitlines(), it is treated as False \n",
    "because 0 is equivalent to False in Python. \n",
    "This means that line breaks are not included in the output.\n",
    "'''\n",
    "# True has been passed \n",
    "print (string.splitlines(True))\n"
   ]
  },
  {
   "cell_type": "code",
   "execution_count": 71,
   "metadata": {},
   "outputs": [
    {
     "name": "stdout",
     "output_type": "stream",
     "text": [
      "['Welcome everyone to', 'the beautiful ', ' world']\n",
      "[19, 14, 6]\n"
     ]
    }
   ],
   "source": [
    "string = \"Welcome everyone to\\rthe beautiful \\x1c world\"\n",
    "li = string.splitlines() \n",
    "print (li) \n",
    "l = [len(element) for element in li] \n",
    "print(l)"
   ]
  },
  {
   "cell_type": "code",
   "execution_count": 72,
   "metadata": {},
   "outputs": [
    {
     "name": "stdout",
     "output_type": "stream",
     "text": [
      "['Welcome everyone to ', ' the beautiful ', ' world']\n",
      "[20, 15, 6]\n"
     ]
    }
   ],
   "source": [
    "string = \"Welcome everyone to \\r the beautiful \\x1c world\"  #check the space in the output\n",
    "li = string.splitlines() \n",
    "print (li) \n",
    "l = [len(element) for element in li] \n",
    "print(l)"
   ]
  },
  {
   "cell_type": "code",
   "execution_count": 75,
   "metadata": {},
   "outputs": [
    {
     "name": "stdout",
     "output_type": "stream",
     "text": [
      "['Welcome everyone to', 'the beautiful', 'world']\n",
      "[19, 13, 5]\n"
     ]
    }
   ],
   "source": [
    "string = \"Welcome everyone to\\nthe beautiful\\x1cworld\"\n",
    "li = string.splitlines() \n",
    "print (li) \n",
    "l = [len(element) for element in li] \n",
    "print(l)"
   ]
  },
  {
   "cell_type": "markdown",
   "metadata": {},
   "source": [
    "## translate\n",
    "To replace or remove specific characters in a string based on a translation table.\n",
    "Requires a translation table created with str.maketrans() to specify character mappings."
   ]
  },
  {
   "cell_type": "code",
   "execution_count": 3,
   "metadata": {},
   "outputs": [
    {
     "name": "stdout",
     "output_type": "stream",
     "text": [
      "h2ll4 w4rld\n"
     ]
    }
   ],
   "source": [
    "# Creating a translation table\n",
    "#character mapping:maketrans(from_string, to_string)\n",
    "translation_table = str.maketrans(\"aeiou\", \"12345\")\n",
    "\n",
    "# Original string\n",
    "text = \"hello world\"\n",
    "\n",
    "# Using the translate() method\n",
    "translated_text = text.translate(translation_table)\n",
    "print(translated_text)\n"
   ]
  },
  {
   "cell_type": "code",
   "execution_count": 4,
   "metadata": {},
   "outputs": [
    {
     "name": "stdout",
     "output_type": "stream",
     "text": [
      "m21s5r2\n"
     ]
    }
   ],
   "source": [
    "# Creating a translation table\n",
    "translation_table = str.maketrans(\"aeiou\", \"12345\")\n",
    "\n",
    "# Original string\n",
    "text = \"measure\"\n",
    "\n",
    "# Using the translate() method\n",
    "translated_text = text.translate(translation_table)\n",
    "print(translated_text)\n"
   ]
  },
  {
   "cell_type": "code",
   "execution_count": 6,
   "metadata": {},
   "outputs": [
    {
     "name": "stdout",
     "output_type": "stream",
     "text": [
      "hll wrld\n"
     ]
    }
   ],
   "source": [
    "# Create a translation table that removes specific characters\n",
    "# character deletion:maketrans(from_string, to_string,delete_string)\n",
    "'''\n",
    "tr.maketrans(\"\", \"\", \"aeiou\")\n",
    "\n",
    "First parameter (\"\"): This is an empty string, which means there are no \n",
    "characters to map from. Since you are not replacing any characters,\n",
    "it doesn't do anything.\n",
    "\n",
    "Second parameter (\"\"): This is also an empty string, which means there are \n",
    "no characters to map to. It only matters if you are replacing characters.\n",
    "\n",
    "Third parameter (\"aeiou\"): This is the set of characters that will be \n",
    "removed from the string when you use the translate() method.\n",
    "'''\n",
    "translation_table = str.maketrans(\"\", \"\", \"aeiou\")\n",
    "\n",
    "# Original string\n",
    "text = \"hello world\"\n",
    "\n",
    "# Use translate() to remove the vowels\n",
    "translated_text = text.translate(translation_table)\n",
    "print(translated_text)\n"
   ]
  },
  {
   "cell_type": "code",
   "execution_count": 7,
   "metadata": {},
   "outputs": [
    {
     "name": "stdout",
     "output_type": "stream",
     "text": [
      "hஇllஏ wஏrld\n"
     ]
    }
   ],
   "source": [
    "# Create a translation table to map English letters to Tamil letters\n",
    "translation_table = str.maketrans(\"aeiou\", \"அஇஉஏஓ\")\n",
    "\n",
    "# Original English text\n",
    "text = \"hello world\"\n",
    "\n",
    "# Use translate() to replace English vowels with Tamil letters\n",
    "translated_text = text.translate(translation_table)\n",
    "print(translated_text)\n"
   ]
  },
  {
   "cell_type": "code",
   "execution_count": 15,
   "metadata": {},
   "outputs": [
    {
     "name": "stdout",
     "output_type": "stream",
     "text": [
      "marsவaஇ\n"
     ]
    }
   ],
   "source": [
    "# Create a translation table to map English letters to Tamil letters\n",
    "translation_table = str.maketrans(\"hello\", \"வணஅஇக\")\n",
    "\n",
    "# Original English text\n",
    "text = \"marshal\"\n",
    "\n",
    "# Use translate() to replace English vowels with Tamil letters\n",
    "translated_text = text.translate(translation_table)\n",
    "print(translated_text)"
   ]
  },
  {
   "cell_type": "code",
   "execution_count": 11,
   "metadata": {},
   "outputs": [
    {
     "name": "stdout",
     "output_type": "stream",
     "text": [
      "7\n"
     ]
    }
   ],
   "source": [
    "print(len(\"வணக்கம்\"))"
   ]
  },
  {
   "cell_type": "code",
   "execution_count": 12,
   "metadata": {},
   "outputs": [
    {
     "name": "stdout",
     "output_type": "stream",
     "text": [
      "5\n"
     ]
    }
   ],
   "source": [
    "print(len(\"வணஅஇக\"))"
   ]
  },
  {
   "cell_type": "markdown",
   "metadata": {},
   "source": [
    "## Comaparison"
   ]
  },
  {
   "cell_type": "code",
   "execution_count": 16,
   "metadata": {},
   "outputs": [
    {
     "name": "stdout",
     "output_type": "stream",
     "text": [
      "False\n",
      "True\n",
      "False\n",
      "True\n",
      "False\n",
      "True\n"
     ]
    }
   ],
   "source": [
    "string1  =  \"apple\"\n",
    "string2  =  \"Apple\"\n",
    "\n",
    "print(string1  ==  string2)\n",
    "print(string1  !=  string2)\n",
    "print(string1  <  string2)\n",
    "print(string1  >  string2)\n",
    "print(string1  <=  string2)\n",
    "print(string1  >=  string2)"
   ]
  },
  {
   "cell_type": "code",
   "execution_count": 22,
   "metadata": {},
   "outputs": [
    {
     "data": {
      "text/plain": [
       "65"
      ]
     },
     "execution_count": 22,
     "metadata": {},
     "output_type": "execute_result"
    }
   ],
   "source": [
    "\"\"\"the ordinal value refers to the numerical representation of a character\n",
    "in the Unicode standard. You can obtain the ordinal value of a \n",
    "character using the ord() function\"\"\"\n",
    "ord('A') \n",
    "  "
   ]
  },
  {
   "cell_type": "code",
   "execution_count": 21,
   "metadata": {},
   "outputs": [
    {
     "data": {
      "text/plain": [
       "97"
      ]
     },
     "execution_count": 21,
     "metadata": {},
     "output_type": "execute_result"
    }
   ],
   "source": [
    "ord('a') \n"
   ]
  },
  {
   "cell_type": "code",
   "execution_count": 20,
   "metadata": {},
   "outputs": [
    {
     "data": {
      "text/plain": [
       "128512"
      ]
     },
     "execution_count": 20,
     "metadata": {},
     "output_type": "execute_result"
    }
   ],
   "source": [
    "ord('😀')"
   ]
  },
  {
   "cell_type": "markdown",
   "metadata": {},
   "source": [
    "## Escape sequence\n",
    "Common Escape Sequences\n",
    "\\' : Single quote\n",
    "\\\" : Double quote\n",
    "\\\\ : Backslash\n",
    "\\n : Newline\n",
    "\\t : Tab\n",
    "\\r : Carriage return\n",
    "\\b : Backspace\n",
    "\\f : Form feed\n",
    "\\a : Bell/Alert sound\n",
    "\\v : Vertical tab\n",
    "\\ooo : Octal value (e.g., \\101 represents 'A')\n",
    "\\xhh : Hexadecimal value (e.g., \\x41 represents 'A')"
   ]
  },
  {
   "cell_type": "code",
   "execution_count": 37,
   "metadata": {},
   "outputs": [
    {
     "name": "stdout",
     "output_type": "stream",
     "text": [
      "Single quote escape: It's a beautiful day!\n",
      "Double quote escape: She said, \"Hello!\"\n",
      "Backslash escape: This is a backslash: \\\n",
      "Newline escape sequence:\n",
      " First line\n",
      "Second line\n",
      "Tab escape sequence: Name\tAge\tLocation\n",
      "New Text\n",
      "Backspace escape sequence: Hello\bWorld!\n",
      "Bell/Alert escape sequence: This will trigger a bell sound\u0007\n",
      "Vertical tab escape sequence: Column1\u000b",
      "Column2\n",
      "Octal value escape sequence: ABC\n",
      "Hexadecimal value escape sequence: ABC\n"
     ]
    }
   ],
   "source": [
    "# Using single quote escape\n",
    "single_quote = 'It\\'s a beautiful day!'\n",
    "print(\"Single quote escape:\", single_quote)\n",
    "\n",
    "# Using double quote escape\n",
    "double_quote = \"She said, \\\"Hello!\\\"\"\n",
    "print(\"Double quote escape:\", double_quote)\n",
    "\n",
    "# Using backslash escape\n",
    "backslash = \"This is a backslash: \\\\\"\n",
    "print(\"Backslash escape:\", backslash)\n",
    "\n",
    "# Newline escape sequence\n",
    "new_line = \"First line\\nSecond line\"\n",
    "print(\"Newline escape sequence:\\n\", new_line)\n",
    "\n",
    "# Tab escape sequence\n",
    "tab_space = \"Name\\tAge\\tLocation\"\n",
    "print(\"Tab escape sequence:\", tab_space)\n",
    "\n",
    "# Carriage return escape sequence\n",
    "carriage_return = \"Hello, World!\\rNew Text\"\n",
    "print(carriage_return)\n",
    "\n",
    "# Backspace escape sequence\n",
    "backspace = \"Hello\\bWorld!\"\n",
    "print(\"Backspace escape sequence:\", backspace)\n",
    "\n",
    "\n",
    "# Bell/Alert escape sequence\n",
    "alert_sound = \"This will trigger a bell sound\\a\"\n",
    "print(\"Bell/Alert escape sequence:\", alert_sound)\n",
    "\n",
    "# Vertical tab escape sequence\n",
    "vertical_tab = \"Column1\\vColumn2\"\n",
    "print(\"Vertical tab escape sequence:\", vertical_tab)\n",
    "\n",
    "# Using octal value escape sequence\n",
    "octal_value = \"\\101\\102\\103\"  # Represents 'ABC'\n",
    "print(\"Octal value escape sequence:\", octal_value)\n",
    "\n",
    "# Using hexadecimal value escape sequence\n",
    "hex_value = \"\\x41\\x42\\x43\"  # Represents 'ABC'\n",
    "print(\"Hexadecimal value escape sequence:\", hex_value)\n"
   ]
  },
  {
   "cell_type": "code",
   "execution_count": 28,
   "metadata": {},
   "outputs": [
    {
     "name": "stdout",
     "output_type": "stream",
     "text": [
      "New Text\n"
     ]
    }
   ],
   "source": [
    "print(\"Hello, World!\\rNew Text\")"
   ]
  },
  {
   "cell_type": "code",
   "execution_count": 36,
   "metadata": {},
   "outputs": [
    {
     "name": "stdout",
     "output_type": "stream",
     "text": [
      "New Text\n"
     ]
    }
   ],
   "source": [
    "x = \"Hello, World!\\rNew Text\"\n",
    "print(\"return escape sequence:\", x)"
   ]
  },
  {
   "cell_type": "code",
   "execution_count": 33,
   "metadata": {},
   "outputs": [
    {
     "name": "stdout",
     "output_type": "stream",
     "text": [
      "Backspace escape sequence: Hello\bWorld!\n"
     ]
    }
   ],
   "source": [
    "backspace = \"Hello\\bWorld!\"\n",
    "print(\"Backspace escape sequence:\", backspace)"
   ]
  },
  {
   "cell_type": "code",
   "execution_count": 34,
   "metadata": {},
   "outputs": [
    {
     "name": "stdout",
     "output_type": "stream",
     "text": [
      "Form feed escape sequence: Line1\f",
      "Line2\n"
     ]
    }
   ],
   "source": [
    "form_feed = \"Line1\\fLine2\"\n",
    "print(\"Form feed escape sequence:\", form_feed)"
   ]
  },
  {
   "cell_type": "code",
   "execution_count": 35,
   "metadata": {},
   "outputs": [
    {
     "name": "stdout",
     "output_type": "stream",
     "text": [
      "Bell/Alert escape sequence: This will trigger a bell sound\u0007\n"
     ]
    }
   ],
   "source": [
    "alert_sound = \"This will trigger a bell sound\\a\"\n",
    "print(\"Bell/Alert escape sequence:\", alert_sound)\n"
   ]
  },
  {
   "cell_type": "code",
   "execution_count": null,
   "metadata": {},
   "outputs": [],
   "source": []
  }
 ],
 "metadata": {
  "kernelspec": {
   "display_name": "Python 3",
   "language": "python",
   "name": "python3"
  },
  "language_info": {
   "codemirror_mode": {
    "name": "ipython",
    "version": 3
   },
   "file_extension": ".py",
   "mimetype": "text/x-python",
   "name": "python",
   "nbconvert_exporter": "python",
   "pygments_lexer": "ipython3",
   "version": "3.8.5"
  }
 },
 "nbformat": 4,
 "nbformat_minor": 4
}
