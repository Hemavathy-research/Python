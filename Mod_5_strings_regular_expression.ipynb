{
 "cells": [
  {
   "cell_type": "markdown",
   "metadata": {},
   "source": [
    "# re.match():\n",
    "Purpose: This function checks for a match only at the beginning of the string.\n",
    "Behavior: It returns a match object if the pattern matches at the start of the string; otherwise, it returns None. Even if the pattern appears later in the string, re.match will not find it."
   ]
  },
  {
   "cell_type": "code",
   "execution_count": 4,
   "metadata": {},
   "outputs": [
    {
     "name": "stdout",
     "output_type": "stream",
     "text": [
      "<re.Match object; span=(0, 5), match='Hello'>\n",
      "<class 're.Match'>\n",
      "(0, 5)\n",
      "Hello\n",
      "Hello, World!\n"
     ]
    }
   ],
   "source": [
    "import re\n",
    "\n",
    "text = \"Hello, World!\"\n",
    "pattern = \"Hello\"\n",
    "\n",
    "# re.match only checks the beginning of the string\n",
    "match = re.match(pattern, text)\n",
    "print(match)\n",
    "print(type(match))\n",
    "print(match.span())\n",
    "print(match.group())\n",
    "print(match.string) #note string is not the variable\n"
   ]
  },
  {
   "cell_type": "code",
   "execution_count": 5,
   "metadata": {},
   "outputs": [
    {
     "name": "stdout",
     "output_type": "stream",
     "text": [
      "Matched: Hello\n"
     ]
    }
   ],
   "source": [
    "import re\n",
    "\n",
    "text = \"Hello, World!\"\n",
    "pattern = \"Hello\"\n",
    "\n",
    "# re.match only checks the beginning of the string\n",
    "match = re.match(pattern, text)\n",
    "if match:\n",
    "    print(\"Matched:\", match.group())  # This will print \"Matched: Hello\"\n",
    "else:\n",
    "    print(\"No match\")"
   ]
  },
  {
   "cell_type": "code",
   "execution_count": 6,
   "metadata": {},
   "outputs": [
    {
     "name": "stdout",
     "output_type": "stream",
     "text": [
      "No match\n"
     ]
    }
   ],
   "source": [
    "import re\n",
    "\n",
    "text = \"Hello, World!\"\n",
    "pattern = \"llo\"\n",
    "\n",
    "# re.match only checks the beginning of the string\n",
    "match = re.match(pattern, text)\n",
    "if match:\n",
    "    print(\"Matched:\", match.group())  # This will print \"Matched: Hello\"\n",
    "else:\n",
    "    print(\"No match\")"
   ]
  },
  {
   "cell_type": "code",
   "execution_count": 7,
   "metadata": {},
   "outputs": [
    {
     "name": "stdout",
     "output_type": "stream",
     "text": [
      "No match\n"
     ]
    }
   ],
   "source": [
    "import re\n",
    "\n",
    "text = \"Hello, World!\"\n",
    "pattern = \"World\"\n",
    "\n",
    "# re.match only checks the beginning of the string\n",
    "match = re.match(pattern, text)\n",
    "if match:\n",
    "    print(\"Matched:\", match.group())  # This will print \"Matched: Hello\"\n",
    "else:\n",
    "    print(\"No match\")"
   ]
  },
  {
   "cell_type": "code",
   "execution_count": 13,
   "metadata": {},
   "outputs": [
    {
     "name": "stdout",
     "output_type": "stream",
     "text": [
      "No match\n"
     ]
    }
   ],
   "source": [
    "import re\n",
    "\n",
    "text = \"Hello, World!\"\n",
    "pattern = \"lo, W\"\n",
    "\n",
    "# re.match only checks the beginning of the string\n",
    "match = re.match(pattern, text)\n",
    "if match:\n",
    "    print(\"Matched:\", match.group())  # This will print \"Matched: Hello\"\n",
    "else:\n",
    "    print(\"No match\")"
   ]
  },
  {
   "cell_type": "markdown",
   "metadata": {},
   "source": [
    "# re.search():\n",
    "match = re.search(pattern, str)\n",
    "Purpose: This function searches for a match anywhere in the string, \n",
    "    not just at the beginning.\n",
    "Behavior: It returns a match object if the pattern is found anywhere \n",
    "    in the string, and returns None if no match is found."
   ]
  },
  {
   "cell_type": "code",
   "execution_count": 8,
   "metadata": {},
   "outputs": [
    {
     "name": "stdout",
     "output_type": "stream",
     "text": [
      "Found: World\n"
     ]
    }
   ],
   "source": [
    "import re\n",
    "\n",
    "text = \"Hello, World!\"\n",
    "pattern = \"World\"\n",
    "\n",
    "# re.search checks the entire string for the pattern\n",
    "search = re.search(pattern, text)\n",
    "if search:\n",
    "    print(\"Found:\", search.group())  # This will print \"Found: World\"\n",
    "else:\n",
    "    print(\"Not found\")\n"
   ]
  },
  {
   "cell_type": "code",
   "execution_count": 11,
   "metadata": {},
   "outputs": [
    {
     "name": "stdout",
     "output_type": "stream",
     "text": [
      "Found: lo,\n"
     ]
    }
   ],
   "source": [
    "import re\n",
    "\n",
    "text = \"Hello, World!\"\n",
    "pattern = \"lo,\"\n",
    "\n",
    "# re.search checks the entire string for the pattern\n",
    "search = re.search(pattern, text)\n",
    "if search:\n",
    "    print(\"Found:\", search.group())  # This will print \"Found: World\"\n",
    "else:\n",
    "    print(\"Not found\")\n"
   ]
  },
  {
   "cell_type": "code",
   "execution_count": 12,
   "metadata": {},
   "outputs": [
    {
     "name": "stdout",
     "output_type": "stream",
     "text": [
      "Found: lo, W\n"
     ]
    }
   ],
   "source": [
    "import re\n",
    "\n",
    "text = \"Hello, World!\"\n",
    "pattern = \"lo, W\"\n",
    "\n",
    "# re.search checks the entire string for the pattern\n",
    "search = re.search(pattern, text)\n",
    "if search:\n",
    "    print(\"Found:\", search.group())  # This will print \"Found: World\"\n",
    "else:\n",
    "    print(\"Not found\")\n"
   ]
  },
  {
   "cell_type": "code",
   "execution_count": 14,
   "metadata": {},
   "outputs": [
    {
     "name": "stdout",
     "output_type": "stream",
     "text": [
      "Not found\n"
     ]
    }
   ],
   "source": [
    "import re\n",
    "\n",
    "text = \"Hello, World!\"\n",
    "pattern = \"ab\"\n",
    "\n",
    "# re.search checks the entire string for the pattern\n",
    "search = re.search(pattern, text)\n",
    "if search:\n",
    "    print(\"Found:\", search.group())  # This will print \"Found: World\"\n",
    "else:\n",
    "    print(\"Not found\")"
   ]
  },
  {
   "cell_type": "code",
   "execution_count": 19,
   "metadata": {},
   "outputs": [
    {
     "name": "stdout",
     "output_type": "stream",
     "text": [
      "<re.Match object; span=(1, 3), match='el'>\n",
      "1\n",
      "3\n",
      "el\n"
     ]
    }
   ],
   "source": [
    "import re\n",
    "\n",
    "text = \"Hello, World! Welcome!\"\n",
    "pattern = \"el\"\n",
    "x=re.search(pattern,text)\n",
    "print(x)\n",
    "print(x.start())\n",
    "print(x.end())\n",
    "print(x.group())\n"
   ]
  },
  {
   "cell_type": "code",
   "execution_count": 21,
   "metadata": {},
   "outputs": [
    {
     "name": "stdout",
     "output_type": "stream",
     "text": [
      "['ai', 'ai']\n",
      "<class 'list'>\n"
     ]
    }
   ],
   "source": [
    "import re\n",
    "\n",
    "txt = \"The rain in Spain\"\n",
    "x = re.findall(\"ai\", txt)\n",
    "print(x)\n",
    "print(type(x))"
   ]
  },
  {
   "cell_type": "code",
   "execution_count": 22,
   "metadata": {},
   "outputs": [
    {
     "name": "stdout",
     "output_type": "stream",
     "text": [
      "[]\n"
     ]
    }
   ],
   "source": [
    "import re\n",
    "\n",
    "txt = \"The rain in Spain\"\n",
    "x = re.findall(\"Portugal\", txt)\n",
    "print(x)"
   ]
  },
  {
   "cell_type": "code",
   "execution_count": 2,
   "metadata": {},
   "outputs": [
    {
     "name": "stdout",
     "output_type": "stream",
     "text": [
      "9The9rain9in9spain\n"
     ]
    }
   ],
   "source": [
    "import re\n",
    "txt=\" The rain in spain\"\n",
    "x=re.sub(\"\\s\",\"9\",txt)\n",
    "print(x)"
   ]
  },
  {
   "cell_type": "code",
   "execution_count": 3,
   "metadata": {},
   "outputs": [
    {
     "name": "stdout",
     "output_type": "stream",
     "text": [
      "('9The9rain9in9spain', 4)\n"
     ]
    }
   ],
   "source": [
    "import re\n",
    "txt=\" The rain in spain\"\n",
    "x=re.subn(\"\\s\",\"9\",txt)\n",
    "print(x) #it displays the number if times 9 has been substituted"
   ]
  },
  {
   "cell_type": "code",
   "execution_count": 24,
   "metadata": {},
   "outputs": [
    {
     "name": "stdout",
     "output_type": "stream",
     "text": [
      "('9The9rain9in spain', 3)\n"
     ]
    }
   ],
   "source": [
    "import re\n",
    "txt=\" The rain in spain\"\n",
    "x=re.subn(\"\\s\",\"9\",txt,3)\n",
    "print(x)"
   ]
  },
  {
   "cell_type": "code",
   "execution_count": 63,
   "metadata": {},
   "outputs": [
    {
     "name": "stdout",
     "output_type": "stream",
     "text": [
      "Full Match: John Doe 123\n",
      "First Name: John\n",
      "Last Name: Doe\n",
      "Number: 123\n"
     ]
    }
   ],
   "source": [
    "import re\n",
    "\n",
    "text = \"John Doe 123\"\n",
    "pattern = r\"(\\w+) (\\w+) (\\d+)\"\n",
    "\n",
    "match = re.search(pattern, text)\n",
    "\n",
    "if match:\n",
    "    print(\"Full Match:\", match.group(0))   # The entire matched string\n",
    "    print(\"First Name:\", match.group(1))    # First capturing group (John)\n",
    "    print(\"Last Name:\", match.group(2))     # Second capturing group (Doe)\n",
    "    print(\"Number:\", match.group(3))         # Third capturing group (123)\n"
   ]
  },
  {
   "cell_type": "code",
   "execution_count": 9,
   "metadata": {},
   "outputs": [
    {
     "name": "stdout",
     "output_type": "stream",
     "text": [
      "Full Match: John D@oe 123\n",
      "First Name: John\n",
      "Last Name: D@oe\n",
      "Number: 123\n"
     ]
    }
   ],
   "source": [
    "import re\n",
    "\n",
    "text = \"John D@oe 123\"\n",
    "pattern = r\"(\\w+) (\\D+) (\\d+)\"\n",
    "\n",
    "match = re.search(pattern, text)\n",
    "\n",
    "if match:\n",
    "    print(\"Full Match:\", match.group(0))   # The entire matched string\n",
    "    print(\"First Name:\", match.group(1))    # First capturing group (John)\n",
    "    print(\"Last Name:\", match.group(2))     # Second capturing group (Doe)\n",
    "    print(\"Number:\", match.group(3))         # Third capturing group (123)"
   ]
  },
  {
   "cell_type": "code",
   "execution_count": 64,
   "metadata": {},
   "outputs": [
    {
     "name": "stdout",
     "output_type": "stream",
     "text": [
      "None\n"
     ]
    }
   ],
   "source": [
    "import re\n",
    "\n",
    "text = \"John D@oe a123\"\n",
    "pattern = r\"(\\w+) (\\D+) (\\d+)\"\n",
    "match = re.search(pattern, text)\n",
    "print(match)"
   ]
  },
  {
   "cell_type": "code",
   "execution_count": 4,
   "metadata": {},
   "outputs": [
    {
     "name": "stdout",
     "output_type": "stream",
     "text": [
      "Full Match: Hello World! 123-456-7890\n",
      "    Email: example@example.com\n",
      "First Word: Hello\n",
      "Second Word: World\n",
      "Area Code: 123\n",
      "Prefix: 456\n",
      "Line Number: 7890\n",
      "Email Name: example\n",
      "Domain: example\n",
      "TLD: com\n",
      "------------------------------\n"
     ]
    }
   ],
   "source": [
    "import re\n",
    "\n",
    "# Sample text\n",
    "text = \"\"\"\n",
    "    Hello World! 123-456-7890\n",
    "    Email: example@example.com\n",
    "    Visit us at https://www.example.com\n",
    "    User: John_Doe\n",
    "    Date: 2024-10-08\n",
    "\"\"\"\n",
    "\n",
    "# Regex pattern that utilizes most metacharacters\n",
    "pattern = r\"\"\"\n",
    "    (Hello)\\s+              # Matches the word \"Hello\" followed by one or more whitespace characters\n",
    "    (World)                 # Matches the word \"World\"\n",
    "    [!?.]                   # Matches any punctuation (!, ?, .)\n",
    "    \\s*                    # Matches zero or more whitespace characters\n",
    "    (\\d{3})                 # Capturing group: Matches exactly 3 digits (area code in phone number)\n",
    "    -                       # Matches the dash character literally\n",
    "    (\\d{3})                 # Capturing group: Another 3 digits (prefix in phone number)\n",
    "    -                       # Matches another dash\n",
    "    (\\d{4})                 # Capturing group: Four digits for the line number in phone number\n",
    "    \\s*                     # Matches zero or more whitespace characters\n",
    "    Email:\\s*              # Matches the word \"Email:\" followed by zero or more whitespace characters\n",
    "    ([\\w.%+-]+)            # Capturing group: Matches an email user name (before @)\n",
    "    @                       # Matches the @ symbol literally\n",
    "    ([A-Za-z0-9.-]+)       # Capturing group: Matches the domain name\n",
    "    \\.                      # Matches the literal dot \".\"\n",
    "    ([A-Za-z]{2,})         # Capturing group: Matches top-level domain (TLD)\n",
    "\"\"\"\n",
    "\n",
    "# Compile the pattern with VERBOSE for readability\n",
    "regex = re.compile(pattern, re.VERBOSE)\n",
    "\n",
    "# Find all matches\n",
    "matches = regex.finditer(text)\n",
    "\n",
    "# Print the results\n",
    "for match in matches:\n",
    "    print(\"Full Match:\", match.group(0))        # The entire matched string\n",
    "    print(\"First Word:\", match.group(1))        # First word (Hello)\n",
    "    print(\"Second Word:\", match.group(2))       # Second word (World)\n",
    "    print(\"Area Code:\", match.group(3))         # Area code from phone number\n",
    "    print(\"Prefix:\", match.group(4))            # First part of phone number\n",
    "    print(\"Line Number:\", match.group(5))       # Last part of phone number\n",
    "    print(\"Email Name:\", match.group(6))        # Email user name\n",
    "    print(\"Domain:\", match.group(7))            # Domain name in email\n",
    "    print(\"TLD:\", match.group(8))               # Top-level domain (TLD)\n",
    "    print(\"-\" * 30)                             # Separator between matches\n"
   ]
  },
  {
   "cell_type": "code",
   "execution_count": 6,
   "metadata": {},
   "outputs": [
    {
     "name": "stdout",
     "output_type": "stream",
     "text": [
      "Full Match: Hello World! 123-456-7890\n",
      "Second Word: World\n",
      "Area Code: 123\n",
      "Prefix: 456\n",
      "Line Number: 7890\n"
     ]
    }
   ],
   "source": [
    "import re\n",
    "\n",
    "# Sample text\n",
    "text = \"\"\"\n",
    "    Hello World! 123-456-7890\n",
    "    Email: example@example.com\n",
    "    Visit us at https://www.example.com\n",
    "    User: John_Doe\n",
    "    Date: 2024-10-08\n",
    "\"\"\"\n",
    "\n",
    "# Simple regex pattern to match a greeting and phone number\n",
    "pattern = r\"Hello (\\w+)! (\\d{3})-(\\d{3})-(\\d{4})\"\n",
    "\n",
    "# Find the first match in the text\n",
    "match = re.search(pattern, text)\n",
    "\n",
    "# Check if a match was found\n",
    "if match:\n",
    "    print(\"Full Match:\", match.group(0))       # The entire matched string\n",
    "    print(\"Second Word:\", match.group(1))      # Second word (World)\n",
    "    print(\"Area Code:\", match.group(2))        # Area code from phone number\n",
    "    print(\"Prefix:\", match.group(3))           # First part of phone number\n",
    "    print(\"Line Number:\", match.group(4))      # Last part of phone number\n",
    "else:\n",
    "    print(\"No match found.\")\n"
   ]
  },
  {
   "cell_type": "code",
   "execution_count": 8,
   "metadata": {},
   "outputs": [
    {
     "name": "stdout",
     "output_type": "stream",
     "text": [
      "Not matched\n"
     ]
    }
   ],
   "source": [
    "import re\n",
    "if re.match(\"..$\",\"fooo\"):\n",
    "    print(\"Matched\")\n",
    "else:\n",
    "    print(\"Not matched\")"
   ]
  },
  {
   "cell_type": "code",
   "execution_count": 10,
   "metadata": {},
   "outputs": [
    {
     "name": "stdout",
     "output_type": "stream",
     "text": [
      "Matched\n"
     ]
    }
   ],
   "source": [
    "import re\n",
    "if re.match(\"....$\",\"fooo\"):\n",
    "    print(\"Matched\")\n",
    "else:\n",
    "    print(\"Not matched\")"
   ]
  },
  {
   "cell_type": "code",
   "execution_count": 11,
   "metadata": {},
   "outputs": [
    {
     "name": "stdout",
     "output_type": "stream",
     "text": [
      "Matched\n"
     ]
    }
   ],
   "source": [
    "import re\n",
    "if re.match(\"...\",\"fooo\"):\n",
    "    print(\"Matched\")\n",
    "else:\n",
    "    print(\"Not matched\")"
   ]
  },
  {
   "cell_type": "code",
   "execution_count": 22,
   "metadata": {},
   "outputs": [
    {
     "name": "stdout",
     "output_type": "stream",
     "text": [
      "Matched\n"
     ]
    }
   ],
   "source": [
    "import re\n",
    "if re.match(\"..\",\"abb\"):\n",
    "    print(\"Matched\")\n",
    "else:\n",
    "    print(\"Not matched\")"
   ]
  },
  {
   "cell_type": "code",
   "execution_count": 65,
   "metadata": {},
   "outputs": [
    {
     "name": "stdout",
     "output_type": "stream",
     "text": [
      "Not matched\n"
     ]
    }
   ],
   "source": [
    "import re\n",
    "if re.match(\".....\",\"abb\"):\n",
    "    print(\"Matched\")\n",
    "else:\n",
    "    print(\"Not matched\")"
   ]
  },
  {
   "cell_type": "code",
   "execution_count": 21,
   "metadata": {},
   "outputs": [
    {
     "name": "stdout",
     "output_type": "stream",
     "text": [
      "Not matched\n"
     ]
    }
   ],
   "source": [
    "import re\n",
    "if re.match(\"...\",\"a\"):\n",
    "    print(\"Matched\")\n",
    "else:\n",
    "    print(\"Not matched\")"
   ]
  },
  {
   "cell_type": "code",
   "execution_count": 28,
   "metadata": {},
   "outputs": [
    {
     "name": "stdout",
     "output_type": "stream",
     "text": [
      "['2', '19', '42']\n",
      "['A']\n"
     ]
    }
   ],
   "source": [
    "import re\n",
    "x = 'My 2 fAvorite numbers are 19 and 42'\n",
    "y = re.findall('[0-9]+',x)\n",
    "print(y)\n",
    "\n",
    "y = re.findall('[AEIOU]+',x)\n",
    "print(y)\n"
   ]
  },
  {
   "cell_type": "code",
   "execution_count": 26,
   "metadata": {},
   "outputs": [
    {
     "name": "stdout",
     "output_type": "stream",
     "text": [
      "['2', '1', '9', '4', '2']\n",
      "['a', 'o', 'i', 'e', 'u', 'e', 'a', 'e', 'a']\n"
     ]
    }
   ],
   "source": [
    "import re\n",
    "x = 'My 2 favorite numbers are 19 and 42'\n",
    "y = re.findall('[0-9]',x)\n",
    "print(y)\n",
    "\n",
    "y = re.findall('[aeiou]',x)\n",
    "print(y)"
   ]
  },
  {
   "cell_type": "code",
   "execution_count": 27,
   "metadata": {},
   "outputs": [
    {
     "name": "stdout",
     "output_type": "stream",
     "text": [
      "['2', '1', '9', '4', '2']\n",
      "['a', 'o', 'i', 'e', 'u', 'e', 'a', 'e', 'a']\n"
     ]
    }
   ],
   "source": [
    "import re\n",
    "x = 'My 2 favorite numbers are 19 and 42'\n",
    "y = re.findall('[0-9]',x)\n",
    "print(y)\n",
    "\n",
    "y = re.findall('[aeiou]+',x)\n",
    "print(y)"
   ]
  },
  {
   "cell_type": "code",
   "execution_count": 11,
   "metadata": {},
   "outputs": [
    {
     "name": "stdout",
     "output_type": "stream",
     "text": [
      "['From: Using the :']\n"
     ]
    }
   ],
   "source": [
    "import re\n",
    "x = 'From: Using the : character'\n",
    "y = re.findall('^F.+:', x)\n",
    "print(y)\n"
   ]
  },
  {
   "cell_type": "code",
   "execution_count": 15,
   "metadata": {},
   "outputs": [
    {
     "name": "stdout",
     "output_type": "stream",
     "text": [
      "[]\n"
     ]
    }
   ],
   "source": [
    "import re\n",
    "x = 'From: Using the : character'\n",
    "y = re.findall('^U.+:', x) #should be from the beginning of the sentence\n",
    "print(y)\n"
   ]
  },
  {
   "cell_type": "code",
   "execution_count": 67,
   "metadata": {},
   "outputs": [
    {
     "name": "stdout",
     "output_type": "stream",
     "text": [
      "['From:']\n"
     ]
    }
   ],
   "source": [
    "import re\n",
    "x = 'From: Using the : character'\n",
    "y = re.findall('^F.+?:', x)\n",
    "print(y)\n"
   ]
  },
  {
   "cell_type": "code",
   "execution_count": 34,
   "metadata": {},
   "outputs": [
    {
     "name": "stdout",
     "output_type": "stream",
     "text": [
      "['stephen.marquard@uct.ac.za']\n"
     ]
    }
   ],
   "source": [
    "x=\"From stephen.marquard@uct.ac.za Sat Jan  5 09:14:16 2008\"\n",
    "y = re.findall('\\S+@\\S+',x)\n",
    "print(y)\n"
   ]
  },
  {
   "cell_type": "code",
   "execution_count": 35,
   "metadata": {},
   "outputs": [
    {
     "name": "stdout",
     "output_type": "stream",
     "text": [
      "['stephen.marquard@uct.ac.za']\n"
     ]
    }
   ],
   "source": [
    "x=\"From stephen.marquard@uct.ac.za Sat Jan  5 09:14:16 2008\"\n",
    "y = re.findall('(\\S+@\\S+)',x)\n",
    "print(y)"
   ]
  },
  {
   "cell_type": "code",
   "execution_count": 38,
   "metadata": {},
   "outputs": [
    {
     "name": "stdout",
     "output_type": "stream",
     "text": [
      "['uct.ac.za']\n"
     ]
    }
   ],
   "source": [
    "import re \n",
    "lin = 'From stephen.marquard@uct.ac.za Sat Jan  5 09:14:16 2008'\n",
    "y = re.findall('@([^ ]*)',lin)\n",
    "print(y)\n"
   ]
  },
  {
   "cell_type": "code",
   "execution_count": 42,
   "metadata": {},
   "outputs": [
    {
     "name": "stdout",
     "output_type": "stream",
     "text": [
      "['uct.ac.za']\n"
     ]
    }
   ],
   "source": [
    "\"\"\"\n",
    ".*@ (greedy matching):\n",
    "\n",
    "The .* is a greedy matcher, meaning it will try to match as many characters \n",
    "as possible.It starts at the beginning of the string after the ^From part and \n",
    "continues until it encounters the @ symbol.However, the part before the @ is not\n",
    "captured, because it is not in a capturing group.\n",
    "\n",
    "Capturing group ([^ ]*):\n",
    "\n",
    "This part comes after the @. It is enclosed in parentheses, which means this\n",
    "portion is captured.[^ ]* matches any sequence of characters that are \n",
    "not a space, which ensures that it captures the domain after the @.\n",
    "\n",
    "\"\"\"\n",
    "\n",
    "\n",
    "import re \n",
    "lin = 'From stephen.marquard@uct.ac.za Sat Jan  5 09:14:16 2008'\n",
    "y = re.findall('^From .*@([^ ]*)',lin)\n",
    "print(y)\n"
   ]
  },
  {
   "cell_type": "code",
   "execution_count": 43,
   "metadata": {},
   "outputs": [
    {
     "name": "stdout",
     "output_type": "stream",
     "text": [
      "['uct.ac.za']\n"
     ]
    }
   ],
   "source": [
    "import re \n",
    "lin = 'From stephen.marquard@uct.ac.za Sat Jan  5 09:14:16 2008'\n",
    "y = re.findall('^From .*@([^ ]+)',lin)\n",
    "print(y)"
   ]
  },
  {
   "cell_type": "markdown",
   "metadata": {},
   "source": [
    "## Escape character:\n",
    "If you want a special regular expression character to just behave normally \n",
    "(most of the time) you prefix it with '\\'\n"
   ]
  },
  {
   "cell_type": "code",
   "execution_count": 50,
   "metadata": {},
   "outputs": [
    {
     "name": "stdout",
     "output_type": "stream",
     "text": [
      "['$10.00']\n"
     ]
    }
   ],
   "source": [
    "import re\n",
    "x = 'We just received $10.00 for cookies.'\n",
    "y = re.findall('\\$[0-9.]+',x)\n",
    "print(y)"
   ]
  },
  {
   "cell_type": "code",
   "execution_count": 54,
   "metadata": {},
   "outputs": [
    {
     "name": "stdout",
     "output_type": "stream",
     "text": [
      "Matches with * (0 or more): ['abc', 'abbc', 'abbbc', 'ac', 'ac']\n",
      "Matches with + (1 or more): ['abc', 'abbc', 'abbbc']\n"
     ]
    }
   ],
   "source": [
    "import re\n",
    "\n",
    "# Example string\n",
    "test_string = \"abc abbc abbbc aac abb ac\"\n",
    "\n",
    "# Using * (0 or more) (because * allows for 0 b),\n",
    "pattern_star = r'ab*c'  # This will match 'ac', 'abc', 'abbc', 'abbbc', etc.\n",
    "matches_star = re.findall(pattern_star, test_string)\n",
    "\n",
    "# Using + (1 or more)(requires at least 1 b),\n",
    "pattern_plus = r'ab+c'  # This will match 'abc', 'abbc', 'abbbc', but NOT 'ac'\n",
    "matches_plus = re.findall(pattern_plus, test_string)\n",
    "\n",
    "print(\"Matches with * (0 or more):\", matches_star) \n",
    "#in this for test_string aac, the output is ac, because \n",
    "#The first a is not part of the pattern, so it's skipped.\n",
    "print(\"Matches with + (1 or more):\", matches_plus)\n"
   ]
  },
  {
   "cell_type": "markdown",
   "metadata": {},
   "source": [
    "## Metacharacter(?)\n",
    "When placed after a character or group, ? makes that character or group \n",
    "optional, allowing it to appear zero or one time."
   ]
  },
  {
   "cell_type": "code",
   "execution_count": 55,
   "metadata": {},
   "outputs": [
    {
     "name": "stdout",
     "output_type": "stream",
     "text": [
      "['color', 'colour']\n"
     ]
    }
   ],
   "source": [
    "import re\n",
    "\n",
    "# Example string\n",
    "test_string = \"color colour\"\n",
    "\n",
    "# Pattern with ?\n",
    "pattern = r'colou?r'  # 'u' is optional\n",
    "\n",
    "matches = re.findall(pattern, test_string)\n",
    "print(matches)\n"
   ]
  },
  {
   "cell_type": "code",
   "execution_count": 56,
   "metadata": {},
   "outputs": [
    {
     "name": "stdout",
     "output_type": "stream",
     "text": [
      "<re.Match object; span=(0, 5), match='color'>\n"
     ]
    }
   ],
   "source": [
    "import re\n",
    "\n",
    "# Example string\n",
    "test_string = \"color colour\"\n",
    "\n",
    "# Pattern with ?\n",
    "pattern = r'colou?r'  # 'u' is optional\n",
    "\n",
    "matches = re.search(pattern, test_string)\n",
    "print(matches)\n"
   ]
  },
  {
   "cell_type": "code",
   "execution_count": 58,
   "metadata": {},
   "outputs": [
    {
     "name": "stdout",
     "output_type": "stream",
     "text": [
      "<re.Match object; span=(0, 5), match='color'>\n"
     ]
    }
   ],
   "source": [
    "import re\n",
    "\n",
    "# Example string\n",
    "test_string = \"color colour\"\n",
    "\n",
    "# Pattern with ?\n",
    "pattern = r'colou?r'  # 'u' is optional\n",
    "\n",
    "matches = re.match(pattern, test_string)\n",
    "print(matches)\n"
   ]
  },
  {
   "cell_type": "code",
   "execution_count": 67,
   "metadata": {},
   "outputs": [
    {
     "name": "stdout",
     "output_type": "stream",
     "text": [
      "['happy', 'happ']\n"
     ]
    }
   ],
   "source": [
    "import re\n",
    "txt=\"have a happy day, have a happ day, have a hap day\"\n",
    "#pattern=r'happy?' ## Pattern where 'y' is optional , Method 1 of pattern\n",
    "pattern='happy?'\n",
    "matches=re.findall(pattern,txt)\n",
    "print(matches)"
   ]
  },
  {
   "cell_type": "code",
   "execution_count": 70,
   "metadata": {},
   "outputs": [
    {
     "name": "stdout",
     "output_type": "stream",
     "text": [
      "Matches with 'happy': []\n",
      "Matches without 'happy': [('', 'have a day')]\n"
     ]
    }
   ],
   "source": [
    "import re\n",
    "\n",
    "# Example strings\n",
    "txt_with_happy = \"have a happy day\"\n",
    "txt_without_happy = \"have a day\"\n",
    "\n",
    "# Pattern to match the phrase with 'happy' being optional\n",
    "pattern = r'(happy\\s+)?(have a day)'\n",
    "\n",
    "# Match with 'happy'\n",
    "matches_with_happy = re.findall(pattern, txt_with_happy)\n",
    "\n",
    "# Match without 'happy'\n",
    "matches_without_happy = re.findall(pattern, txt_without_happy)\n",
    "\n",
    "# Print the results\n",
    "print(\"Matches with 'happy':\", matches_with_happy)\n",
    "print(\"Matches without 'happy':\", matches_without_happy)\n"
   ]
  },
  {
   "cell_type": "code",
   "execution_count": 62,
   "metadata": {},
   "outputs": [
    {
     "name": "stdout",
     "output_type": "stream",
     "text": [
      "[]\n"
     ]
    }
   ],
   "source": [
    "import re\n",
    "txt=\"have a beautiful day\"\n",
    "pattern=r'happy?'\n",
    "matches=re.findall(pattern,txt)\n",
    "print(matches)"
   ]
  },
  {
   "cell_type": "code",
   "execution_count": 63,
   "metadata": {},
   "outputs": [
    {
     "name": "stdout",
     "output_type": "stream",
     "text": [
      "Greedy match: ['<b>bold</b> and <b>another bold</b>']\n",
      "Non-greedy match: ['<b>bold</b>', '<b>another bold</b>']\n"
     ]
    }
   ],
   "source": [
    "import re\n",
    "\n",
    "# Example string\n",
    "test_string = \"This is <b>bold</b> and <b>another bold</b>.\"\n",
    "\n",
    "# Greedy matching (default)\n",
    "pattern_greedy = r'<b>.*</b>'\n",
    "greedy_match = re.findall(pattern_greedy, test_string)\n",
    "\n",
    "# Non-greedy matching with ?\n",
    "pattern_non_greedy = r'<b>.*?</b>'\n",
    "non_greedy_match = re.findall(pattern_non_greedy, test_string)\n",
    "\n",
    "print(\"Greedy match:\", greedy_match)\n",
    "print(\"Non-greedy match:\", non_greedy_match)\n"
   ]
  },
  {
   "cell_type": "code",
   "execution_count": 57,
   "metadata": {},
   "outputs": [
    {
     "name": "stdout",
     "output_type": "stream",
     "text": [
      "Not matched\n"
     ]
    }
   ],
   "source": [
    "import re\n",
    "if re.match(\"f.o$\",\"fooo\"):\n",
    "    print(\"Matched\")\n",
    "else:\n",
    "    print(\"Not matched\")"
   ]
  },
  {
   "cell_type": "markdown",
   "metadata": {},
   "source": [
    "### explanation\n",
    "The greedy pattern <b>.*</b> matches everything between the first <b> \n",
    "and the last </b>, so it captures the whole string\n",
    "\"<b>bold</b> and <b>another bold</b>\".\n",
    "\n",
    "The non-greedy pattern <b>.*?</b> captures the smallest possible match, \n",
    "so it matches each <b> tag separately."
   ]
  },
  {
   "cell_type": "code",
   "execution_count": 18,
   "metadata": {},
   "outputs": [
    {
     "name": "stdout",
     "output_type": "stream",
     "text": [
      "Not matched\n"
     ]
    }
   ],
   "source": [
    "import re\n",
    "if re.match(\"f.o$\",\"fooo\"):\n",
    "    print(\"Matched\") #only if the text is foo\n",
    "else:\n",
    "    print(\"Not matched\") #if the text is fooo"
   ]
  },
  {
   "cell_type": "code",
   "execution_count": 24,
   "metadata": {},
   "outputs": [
    {
     "name": "stdout",
     "output_type": "stream",
     "text": [
      "Matched\n"
     ]
    }
   ],
   "source": [
    "import re\n",
    "if re.match(\"..\",\"fooo \"):\n",
    "    print(\"Matched\")\n",
    "else:\n",
    "    print(\"Not matched\")\n"
   ]
  },
  {
   "cell_type": "code",
   "execution_count": 25,
   "metadata": {},
   "outputs": [
    {
     "name": "stdout",
     "output_type": "stream",
     "text": [
      "Matched\n"
     ]
    }
   ],
   "source": [
    "import re\n",
    "if re.match(\".end\",\"bend\"):\n",
    "    print(\"Matched\")\n",
    "else:\n",
    "    print(\"Not matched\")\n"
   ]
  },
  {
   "cell_type": "code",
   "execution_count": 42,
   "metadata": {},
   "outputs": [
    {
     "name": "stdout",
     "output_type": "stream",
     "text": [
      "Matched\n"
     ]
    }
   ],
   "source": [
    "import re\n",
    "pattern=r'[\"-a*]'\n",
    "if re.match(pattern,\"apple\"):\n",
    "    print(\"Matched\")\n",
    "else:\n",
    "    print(\"Not matched\")"
   ]
  },
  {
   "cell_type": "code",
   "execution_count": 52,
   "metadata": {},
   "outputs": [
    {
     "name": "stdout",
     "output_type": "stream",
     "text": [
      "Not matched: 1\n",
      "Not matched: 09\n",
      "Not matched: 5\n",
      "Not matched: 11\n",
      "Matched: 0\n",
      "Not matched: 03\n"
     ]
    }
   ],
   "source": [
    "import re\n",
    "\n",
    "pattern = r'0?$'\n",
    "\n",
    "# Test strings\n",
    "tests = [\"1\", \"09\", \"5\", \"11\", \"0\", \"03\"]\n",
    "\n",
    "for test in tests:\n",
    "    if re.match(pattern, test):\n",
    "        print(f\"Matched: {test}\")\n",
    "    else:\n",
    "        print(f\"Not matched: {test}\")\n"
   ]
  },
  {
   "cell_type": "code",
   "execution_count": 55,
   "metadata": {},
   "outputs": [
    {
     "name": "stdout",
     "output_type": "stream",
     "text": [
      "Not matched: 1\n",
      "Matched: 09\n",
      "Matched: 5\n",
      "Not matched: 11\n",
      "Not matched: 0\n",
      "Matched: 03\n"
     ]
    }
   ],
   "source": [
    "import re\n",
    "\n",
    "pattern = r'0?[2-9]'\n",
    "\n",
    "# Test strings\n",
    "tests = [\"1\", \"09\", \"5\", \"11\", \"0\", \"03\"]\n",
    "\n",
    "for test in tests:\n",
    "    if re.match(pattern, test):\n",
    "        print(f\"Matched: {test}\")\n",
    "    else:\n",
    "        print(f\"Not matched: {test}\")"
   ]
  },
  {
   "cell_type": "code",
   "execution_count": 56,
   "metadata": {},
   "outputs": [
    {
     "name": "stdout",
     "output_type": "stream",
     "text": [
      "Not matched: 1\n",
      "Matched: 09\n",
      "Not matched: 5\n",
      "Not matched: 11\n",
      "Not matched: 0\n",
      "Matched: 03\n"
     ]
    }
   ],
   "source": [
    "import re\n",
    "\n",
    "pattern = r'0?.[2-9]'\n",
    "\n",
    "# Test strings\n",
    "tests = [\"1\", \"09\", \"5\", \"11\", \"0\", \"03\"]\n",
    "\n",
    "for test in tests:\n",
    "    if re.match(pattern, test):\n",
    "        print(f\"Matched: {test}\")\n",
    "    else:\n",
    "        print(f\"Not matched: {test}\")"
   ]
  },
  {
   "cell_type": "code",
   "execution_count": null,
   "metadata": {},
   "outputs": [],
   "source": []
  }
 ],
 "metadata": {
  "kernelspec": {
   "display_name": "Python 3",
   "language": "python",
   "name": "python3"
  },
  "language_info": {
   "codemirror_mode": {
    "name": "ipython",
    "version": 3
   },
   "file_extension": ".py",
   "mimetype": "text/x-python",
   "name": "python",
   "nbconvert_exporter": "python",
   "pygments_lexer": "ipython3",
   "version": "3.8.5"
  }
 },
 "nbformat": 4,
 "nbformat_minor": 4
}
